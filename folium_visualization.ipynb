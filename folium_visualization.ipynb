{
 "cells": [
  {
   "cell_type": "code",
   "execution_count": 3,
   "metadata": {
    "collapsed": true
   },
   "outputs": [],
   "source": [
    "# python3\n",
    "import pandas as pd\n",
    "import matplotlib.pyplot as plt\n",
    "import seaborn as sns\n",
    "\n",
    "%matplotlib inline"
   ]
  },
  {
   "cell_type": "code",
   "execution_count": 4,
   "metadata": {
    "collapsed": true
   },
   "outputs": [],
   "source": [
    "from ActualLatLong import *"
   ]
  },
  {
   "cell_type": "code",
   "execution_count": 12,
   "metadata": {
    "collapsed": true
   },
   "outputs": [],
   "source": [
    "path = \"corr.csv\"\n",
    "df_corr = pd.read_csv(path)\n",
    "del df_corr['Unnamed: 0']\n",
    "\n",
    "\"\"\" add latlong back \"\"\"\n",
    "if 'lat' not in df_corr.columns:\n",
    "    df_corr['lat'] = (df_corr['latlong'] // 1000.).astype(int)\n",
    "    df_corr['long'] = (df_corr['latlong'] % 1000.).astype(int)"
   ]
  },
  {
   "cell_type": "code",
   "execution_count": null,
   "metadata": {
    "collapsed": true
   },
   "outputs": [],
   "source": [
    "\"\"\" get new lat_long \"\"\"\n",
    "new_lat_long = []\n",
    "\n",
    "for y in range(0, -480, -1):\n",
    "    for x in range(480):\n",
    "        distance, angle = find_distance_angle(y, x)\n",
    "        lat, long = displace(ORIGIN_LAT, ORIGIN_LONG, angle, distance)\n",
    "        new_lat_long.append([-y, x, lat, long])"
   ]
  },
  {
   "cell_type": "code",
   "execution_count": null,
   "metadata": {
    "collapsed": true
   },
   "outputs": [],
   "source": [
    "ll_arr = np.array(new_lat_long)\n",
    "test = pd.DataFrame(ll_arr, columns=[\"lat\",\"long\" ,\"map_lat\", \"map_long\"])\n",
    "test['lat'] = test['lat'].astype(int)\n",
    "test['long'] = test['long'].astype(int)\n",
    "# test.to_csv(\"map_latlong.csv\",index=False)"
   ]
  },
  {
   "cell_type": "markdown",
   "metadata": {},
   "source": [
    "## Folium Playground"
   ]
  },
  {
   "cell_type": "code",
   "execution_count": 7,
   "metadata": {
    "collapsed": true
   },
   "outputs": [],
   "source": [
    "import folium\n",
    "from folium import plugins\n",
    "from folium.plugins import HeatMap"
   ]
  },
  {
   "cell_type": "code",
   "execution_count": 14,
   "metadata": {
    "collapsed": true
   },
   "outputs": [],
   "source": [
    "\"\"\"get centre of map\"\"\"\n",
    "test = pd.read_csv(\"map_latlong.csv\")\n",
    "mid = test.loc[test['lat'] == 239].loc[test['long'] == 239]\n",
    "mid_lat = mid['map_lat'].values[0]\n",
    "mid_long = mid['map_long'].values[0]\n",
    "m = folium.Map([mid_lat, mid_long], zoom_start=10)"
   ]
  },
  {
   "cell_type": "code",
   "execution_count": 20,
   "metadata": {},
   "outputs": [
    {
     "data": {
      "text/plain": [
       "map_lat            0\n",
       "map_long           0\n",
       "corr_station_20    0\n",
       "dtype: int64"
      ]
     },
     "execution_count": 20,
     "metadata": {},
     "output_type": "execute_result"
    }
   ],
   "source": [
    "cols = df_corr.columns.values[21]\n",
    "df_corr['map_lat'] = test['map_lat']\n",
    "df_corr['map_long'] = test['map_long']\n",
    "temp = df_corr[['map_lat', 'map_long', cols]].copy()\n",
    "temp = temp.fillna(0, inplace=False)\n",
    "temp.isnull().sum()"
   ]
  },
  {
   "cell_type": "code",
   "execution_count": 22,
   "metadata": {
    "collapsed": true
   },
   "outputs": [],
   "source": [
    "temp.max(axis=0)\n",
    "med = temp.median(axis=0).corr_station_20\n",
    "temp_filtered = temp.loc[temp['corr_station_20'] > med]"
   ]
  },
  {
   "cell_type": "code",
   "execution_count": 54,
   "metadata": {},
   "outputs": [
    {
     "name": "stderr",
     "output_type": "stream",
     "text": [
      "/Users/idawatibustan/.virtualenvs/py3/lib/python3.6/site-packages/ipykernel_launcher.py:3: SettingWithCopyWarning: \n",
      "A value is trying to be set on a copy of a slice from a DataFrame.\n",
      "Try using .loc[row_indexer,col_indexer] = value instead\n",
      "\n",
      "See the caveats in the documentation: http://pandas.pydata.org/pandas-docs/stable/indexing.html#indexing-view-versus-copy\n",
      "  This is separate from the ipykernel package so we can avoid doing imports until\n"
     ]
    }
   ],
   "source": [
    "min = temp.quantile(q=0.999, axis=0).corr_station_20\n",
    "temp_filtered = temp.loc[temp[cols] > min]\n",
    "temp_filtered[cols] = temp_filtered[cols]"
   ]
  },
  {
   "cell_type": "code",
   "execution_count": 58,
   "metadata": {
    "collapsed": true
   },
   "outputs": [],
   "source": [
    "m = folium.Map([mid_lat, mid_long], zoom_start=10)\n",
    "max_amount = float(temp_filtered[cols].max())\n",
    "\n",
    "data = np.array(temp_filtered).tolist()\n",
    "HeatMap(data,\n",
    "        min_opacity=0.9,\n",
    "        max_val=max_amount,\n",
    "        radius=7, blur=14,\n",
    "        max_zoom=3\n",
    "       ).add_to(m)\n",
    "m.save('heatmap.html')"
   ]
  },
  {
   "cell_type": "code",
   "execution_count": 62,
   "metadata": {},
   "outputs": [
    {
     "data": {
      "text/plain": [
       "array(['corr_station_0', 'corr_station_1', 'corr_station_2',\n",
       "       'corr_station_3', 'corr_station_4', 'corr_station_5',\n",
       "       'corr_station_6', 'corr_station_7', 'corr_station_8',\n",
       "       'corr_station_9', 'corr_station_10', 'corr_station_11',\n",
       "       'corr_station_12', 'corr_station_13', 'corr_station_14',\n",
       "       'corr_station_15', 'corr_station_16', 'corr_station_17',\n",
       "       'corr_station_18', 'corr_station_19', 'corr_station_20',\n",
       "       'corr_station_21', 'corr_station_22', 'corr_station_23',\n",
       "       'corr_station_24', 'corr_station_25', 'corr_station_26',\n",
       "       'corr_station_27', 'corr_station_28', 'corr_station_29',\n",
       "       'corr_station_30', 'corr_station_31', 'corr_station_32',\n",
       "       'corr_station_33', 'corr_station_34', 'corr_station_35',\n",
       "       'corr_station_36', 'corr_station_37', 'corr_station_38',\n",
       "       'corr_station_39', 'corr_station_40', 'corr_station_41',\n",
       "       'corr_station_42', 'corr_station_43', 'corr_station_44',\n",
       "       'corr_station_45', 'corr_station_46', 'corr_station_47',\n",
       "       'corr_station_48', 'corr_station_49'], dtype=object)"
      ]
     },
     "execution_count": 62,
     "metadata": {},
     "output_type": "execute_result"
    }
   ],
   "source": [
    "df_corr.columns.values[1:51]"
   ]
  },
  {
   "cell_type": "code",
   "execution_count": 64,
   "metadata": {
    "scrolled": true
   },
   "outputs": [
    {
     "name": "stdout",
     "output_type": "stream",
     "text": [
      "corr_station_0\n",
      "corr_station_1\n"
     ]
    },
    {
     "name": "stderr",
     "output_type": "stream",
     "text": [
      "/Users/idawatibustan/.virtualenvs/py3/lib/python3.6/site-packages/ipykernel_launcher.py:10: SettingWithCopyWarning: \n",
      "A value is trying to be set on a copy of a slice from a DataFrame.\n",
      "Try using .loc[row_indexer,col_indexer] = value instead\n",
      "\n",
      "See the caveats in the documentation: http://pandas.pydata.org/pandas-docs/stable/indexing.html#indexing-view-versus-copy\n",
      "  # Remove the CWD from sys.path while we load stuff.\n"
     ]
    },
    {
     "name": "stdout",
     "output_type": "stream",
     "text": [
      "corr_station_2\n",
      "corr_station_3\n",
      "corr_station_4\n",
      "corr_station_5\n",
      "corr_station_6\n",
      "corr_station_7\n",
      "corr_station_8\n",
      "corr_station_9\n",
      "corr_station_10\n",
      "corr_station_11\n",
      "corr_station_12\n",
      "corr_station_13\n",
      "corr_station_14\n",
      "corr_station_15\n",
      "corr_station_16\n",
      "corr_station_17\n",
      "corr_station_18\n",
      "corr_station_19\n",
      "corr_station_20\n",
      "corr_station_21\n",
      "corr_station_22\n",
      "corr_station_23\n",
      "corr_station_24\n",
      "corr_station_25\n",
      "corr_station_26\n",
      "corr_station_27\n",
      "corr_station_28\n",
      "corr_station_29\n",
      "corr_station_30\n",
      "corr_station_31\n",
      "corr_station_32\n",
      "corr_station_33\n",
      "corr_station_34\n",
      "corr_station_35\n",
      "corr_station_36\n",
      "corr_station_37\n",
      "corr_station_38\n",
      "corr_station_39\n",
      "corr_station_40\n",
      "corr_station_41\n",
      "corr_station_42\n",
      "corr_station_43\n",
      "corr_station_44\n",
      "corr_station_45\n",
      "corr_station_46\n",
      "corr_station_47\n",
      "corr_station_48\n",
      "corr_station_49\n"
     ]
    }
   ],
   "source": [
    "\"\"\"generate html visualization on map\"\"\"\n",
    "for cols in df_corr.columns.values[1:51]:\n",
    "    print(cols)\n",
    "    temp = df_corr[['map_lat', 'map_long', cols]].copy()\n",
    "    temp = temp.fillna(0, inplace=False)\n",
    "    temp.isnull().sum()\n",
    "\n",
    "    min_amount = temp.quantile(q=0.999, axis=0)[cols]\n",
    "    temp_filtered = temp.loc[temp[cols] > min_amount]\n",
    "    temp_filtered[cols] = temp_filtered[cols]*1000\n",
    "    max_amount = float(temp_filtered[cols].max())\n",
    "    \n",
    "    m = folium.Map([mid_lat, mid_long], zoom_start=10)\n",
    "    data = np.array(temp_filtered).tolist()\n",
    "    HeatMap(data,\n",
    "            min_opacity=0.9,\n",
    "            max_val=max_amount,\n",
    "            radius=7, blur=14,\n",
    "            max_zoom=3\n",
    "           ).add_to(m)\n",
    "    m.save('heatmaps/heatmap_'+cols+'.html')"
   ]
  },
  {
   "cell_type": "code",
   "execution_count": null,
   "metadata": {
    "collapsed": true
   },
   "outputs": [],
   "source": []
  }
 ],
 "metadata": {
  "kernelspec": {
   "display_name": "Python 2",
   "language": "python",
   "name": "python2"
  },
  "language_info": {
   "codemirror_mode": {
    "name": "ipython",
    "version": 2
   },
   "file_extension": ".py",
   "mimetype": "text/x-python",
   "name": "python",
   "nbconvert_exporter": "python",
   "pygments_lexer": "ipython2",
   "version": "2.7.10"
  }
 },
 "nbformat": 4,
 "nbformat_minor": 2
}
