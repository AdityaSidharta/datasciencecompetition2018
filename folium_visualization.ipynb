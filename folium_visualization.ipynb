{
 "cells": [
  {
   "cell_type": "code",
   "execution_count": null,
   "metadata": {},
   "outputs": [],
   "source": [
    "# python3\n",
    "import pandas as pd\n",
    "import matplotlib.pyplot as plt\n",
    "import seaborn as sns\n",
    "\n",
    "%matplotlib inline"
   ]
  },
  {
   "cell_type": "code",
   "execution_count": null,
   "metadata": {},
   "outputs": [],
   "source": [
    "from ActualLatLong import *"
   ]
  },
  {
   "cell_type": "code",
   "execution_count": null,
   "metadata": {},
   "outputs": [],
   "source": [
    "path = \"corr.csv\"\n",
    "df_corr = pd.read_csv(path)\n",
    "del df_corr['Unnamed: 0']\n",
    "\n",
    "\"\"\" add latlong back \"\"\"\n",
    "if 'lat' not in df_corr.columns:\n",
    "    df_corr['lat'] = (df_corr['latlong'] // 1000.).astype(int)\n",
    "    df_corr['long'] = (df_corr['latlong'] % 1000.).astype(int)"
   ]
  },
  {
   "cell_type": "code",
   "execution_count": null,
   "metadata": {},
   "outputs": [],
   "source": [
    "\"\"\" get new lat_long \"\"\"\n",
    "new_lat_long = []\n",
    "\n",
    "for y in range(0, -480, -1):\n",
    "    for x in range(480):\n",
    "        distance, angle = find_distance_angle(y, x)\n",
    "        lat, long = displace(ORIGIN_LAT, ORIGIN_LONG, angle, distance)\n",
    "        new_lat_long.append([-y, x, lat, long])"
   ]
  },
  {
   "cell_type": "code",
   "execution_count": null,
   "metadata": {},
   "outputs": [],
   "source": [
    "ll_arr = np.array(new_lat_long)\n",
    "test = pd.DataFrame(ll_arr, columns=[\"lat\",\"long\" ,\"map_lat\", \"map_long\"])\n",
    "test['lat'] = test['lat'].astype(int)\n",
    "test['long'] = test['long'].astype(int)\n",
    "# test.to_csv(\"map_latlong.csv\",index=False)"
   ]
  },
  {
   "cell_type": "markdown",
   "metadata": {},
   "source": [
    "## Folium Playground"
   ]
  },
  {
   "cell_type": "code",
   "execution_count": null,
   "metadata": {},
   "outputs": [],
   "source": [
    "import folium\n",
    "from folium import plugins\n",
    "from folium.plugins import HeatMap\n",
    "import pandas as pd\n",
    "import numpy as np"
   ]
  },
  {
   "cell_type": "code",
   "execution_count": null,
   "metadata": {},
   "outputs": [],
   "source": [
    "\"\"\"get centre of map\"\"\"\n",
    "test = pd.read_csv(\"processed_data/map_latlong.csv\")\n",
    "mid = test.loc[test['lat'] == 239].loc[test['long'] == 239]\n",
    "mid_lat = mid['map_lat'].values[0]\n",
    "mid_long = mid['map_long'].values[0]\n",
    "m = folium.Map([mid_lat, mid_long], zoom_start=10)"
   ]
  },
  {
   "cell_type": "code",
   "execution_count": null,
   "metadata": {},
   "outputs": [],
   "source": [
    "cols = df_corr.columns.values[21]\n",
    "df_corr['map_lat'] = test['map_lat']\n",
    "df_corr['map_long'] = test['map_long']\n",
    "temp = df_corr[['map_lat', 'map_long', cols]].copy()\n",
    "temp = temp.fillna(0, inplace=False)\n",
    "temp.isnull().sum()"
   ]
  },
  {
   "cell_type": "code",
   "execution_count": null,
   "metadata": {},
   "outputs": [],
   "source": [
    "\"\"\"filter by median\"\"\"\n",
    "temp.max(axis=0)\n",
    "med = temp.median(axis=0).corr_station_20\n",
    "temp_filtered = temp.loc[temp['corr_station_20'] > med]"
   ]
  },
  {
   "cell_type": "code",
   "execution_count": null,
   "metadata": {},
   "outputs": [],
   "source": [
    "\"\"\"filter by percentile\"\"\"\n",
    "min = temp.quantile(q=0.999, axis=0).corr_station_20\n",
    "temp_filtered = temp.loc[temp[cols] > min]\n",
    "temp_filtered[cols] = temp_filtered[cols]"
   ]
  },
  {
   "cell_type": "code",
   "execution_count": 26,
   "metadata": {},
   "outputs": [
    {
     "data": {
      "text/html": [
       "<div style=\"width:100%;\"><div style=\"position:relative;width:100%;height:0;padding-bottom:60%;\"><iframe src=\"data:text/html;charset=utf-8;base64,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\" style=\"position:absolute;width:100%;height:100%;left:0;top:0;border:none !important;\" allowfullscreen webkitallowfullscreen mozallowfullscreen></iframe></div></div>"
      ],
      "text/plain": [
       "<folium.folium.Map at 0x10f550400>"
      ]
     },
     "execution_count": 26,
     "metadata": {},
     "output_type": "execute_result"
    }
   ],
   "source": [
    "m = folium.Map([mid_lat, mid_long], zoom_start=10)\n",
    "max_amount = float(temp_filtered[cols].max())\n",
    "\n",
    "data = np.array(temp_filtered).tolist()\n",
    "HeatMap(data,\n",
    "        min_opacity=0.9,\n",
    "        max_val=max_amount,\n",
    "        radius=7, blur=14,\n",
    "        max_zoom=3\n",
    "       ).add_to(m)\n",
    "m"
   ]
  },
  {
   "cell_type": "code",
   "execution_count": null,
   "metadata": {
    "scrolled": true
   },
   "outputs": [],
   "source": [
    "\"\"\"generate html visualization on map\"\"\"\n",
    "for cols in df_corr.columns.values[1:51]:\n",
    "    print(cols)\n",
    "    temp = df_corr[['map_lat', 'map_long', cols]].copy()\n",
    "    temp = temp.fillna(0, inplace=False)\n",
    "    temp.isnull().sum()\n",
    "\n",
    "    min_amount = temp.quantile(q=0.999, axis=0)[cols]\n",
    "    temp_filtered = temp.loc[temp[cols] > min_amount]\n",
    "    temp_filtered[cols] = temp_filtered[cols]*1000\n",
    "    max_amount = float(temp_filtered[cols].max())\n",
    "    \n",
    "    m = folium.Map([mid_lat, mid_long], zoom_start=10)\n",
    "    data = np.array(temp_filtered).tolist()\n",
    "    HeatMap(data,\n",
    "            min_opacity=0.9,\n",
    "            max_val=max_amount,\n",
    "            radius=7, blur=14,\n",
    "            max_zoom=3\n",
    "           ).add_to(m)\n",
    "    m.save('heatmaps/heatmap_'+cols+'.html')"
   ]
  }
 ],
 "metadata": {
  "kernelspec": {
   "display_name": "Python 3",
   "language": "python",
   "name": "python3"
  },
  "language_info": {
   "codemirror_mode": {
    "name": "ipython",
    "version": 3
   },
   "file_extension": ".py",
   "mimetype": "text/x-python",
   "name": "python",
   "nbconvert_exporter": "python",
   "pygments_lexer": "ipython3",
   "version": "3.6.4"
  }
 },
 "nbformat": 4,
 "nbformat_minor": 2
}
