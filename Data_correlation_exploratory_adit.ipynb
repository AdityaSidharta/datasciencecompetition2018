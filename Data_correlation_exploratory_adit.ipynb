{
 "cells": [
  {
   "cell_type": "code",
   "execution_count": null,
   "metadata": {
    "collapsed": true
   },
   "outputs": [],
   "source": [
    "filepath = '/home/adityasidharta/git/datascience2018/datasets'\n",
    "gauge_path = filepath+'/gauge.csv'\n",
    "radar_path = filepath+'/radar'"
   ]
  },
  {
   "cell_type": "code",
   "execution_count": null,
   "metadata": {
    "collapsed": true
   },
   "outputs": [],
   "source": [
    "from tqdm import tqdm_notebook as tqdm\n",
    "from scipy.stats import pearsonr"
   ]
  },
  {
   "cell_type": "code",
   "execution_count": null,
   "metadata": {
    "collapsed": true
   },
   "outputs": [],
   "source": [
    "import pandas as pd\n",
    "import numpy as np\n",
    "import oscd"
   ]
  },
  {
   "cell_type": "code",
   "execution_count": null,
   "metadata": {
    "collapsed": true
   },
   "outputs": [],
   "source": [
    "df_gauge = pd.read_csv(gauge_path)"
   ]
  },
  {
   "cell_type": "code",
   "execution_count": null,
   "metadata": {},
   "outputs": [],
   "source": [
    "df_result = pd.DataFrame()\n",
    "train_week = []\n",
    "for filename in tqdm(os.listdir(radar_path)):\n",
    "    week = filename.split('.')[0][-2:]\n",
    "    train_week.append(str(week))\n",
    "    full_radar_path = os.path.join(radar_path, filename)\n",
    "    df_radar = pd.read_csv(full_radar_path)\n",
    "    radar_obs = df_radar.values[:,2:]\n",
    "    radar_arange = np.arange(0, 34)\n",
    "    radar_mean = np.matmul(radar_obs, radar_arange) / 2016.\n",
    "    if 'latlong' not in df_result.columns:\n",
    "        df_result['latlong'] = df_radar['lat'] * 1000 + df_radar['long']\n",
    "    assert np.allclose(df_result['latlong'].values, df_radar['lat'] * 1000 + df_radar['long'])\n",
    "    df_result['mean_week_'+str(week)] = radar_mean"
   ]
  },
  {
   "cell_type": "code",
   "execution_count": null,
   "metadata": {},
   "outputs": [],
   "source": [
    "train_week"
   ]
  },
  {
   "cell_type": "code",
   "execution_count": null,
   "metadata": {
    "collapsed": true
   },
   "outputs": [],
   "source": [
    "df_result = df_result[sorted(df_result.columns)]"
   ]
  },
  {
   "cell_type": "code",
   "execution_count": null,
   "metadata": {},
   "outputs": [],
   "source": [
    "df_result.head()"
   ]
  },
  {
   "cell_type": "code",
   "execution_count": null,
   "metadata": {},
   "outputs": [],
   "source": [
    "df_gauge = pd.read_csv(gauge_path)"
   ]
  },
  {
   "cell_type": "code",
   "execution_count": null,
   "metadata": {
    "scrolled": true
   },
   "outputs": [],
   "source": [
    "len(np.where(pd.isnull(df_gauge))[0])"
   ]
  },
  {
   "cell_type": "code",
   "execution_count": null,
   "metadata": {},
   "outputs": [],
   "source": [
    "df_gauge['18']"
   ]
  },
  {
   "cell_type": "code",
   "execution_count": null,
   "metadata": {},
   "outputs": [],
   "source": [
    "df_gauge['Year'] = df_gauge['Year'].astype(str)\n",
    "df_gauge['Week'] = df_gauge['Week'].astype(str)\n",
    "df_gauge = df_gauge.apply(lambda x: x.fillna(x[2:].mean()),axis=1)"
   ]
  },
  {
   "cell_type": "code",
   "execution_count": null,
   "metadata": {},
   "outputs": [],
   "source": [
    "train_week = sorted(train_week)"
   ]
  },
  {
   "cell_type": "code",
   "execution_count": null,
   "metadata": {},
   "outputs": [],
   "source": [
    "train_bool = df_gauge['Week'].apply(lambda x : x in train_week)\n",
    "train_df_gauge = df_gauge[train_bool]"
   ]
  },
  {
   "cell_type": "code",
   "execution_count": null,
   "metadata": {},
   "outputs": [],
   "source": [
    "train_df_gauge_array = train_df_gauge.values[:, 2:]"
   ]
  },
  {
   "cell_type": "code",
   "execution_count": null,
   "metadata": {},
   "outputs": [],
   "source": [
    "train_df_gauge.head()"
   ]
  },
  {
   "cell_type": "code",
   "execution_count": null,
   "metadata": {},
   "outputs": [],
   "source": [
    "train_df_gauge_array.shape\n"
   ]
  },
  {
   "cell_type": "code",
   "execution_count": null,
   "metadata": {},
   "outputs": [],
   "source": [
    "df_result['latlong'].values"
   ]
  },
  {
   "cell_type": "code",
   "execution_count": null,
   "metadata": {},
   "outputs": [],
   "source": [
    "print np.where(pd.isnull(train_df_gauge_array))\n",
    "print np.where(pd.isnull(df_result))"
   ]
  },
  {
   "cell_type": "code",
   "execution_count": null,
   "metadata": {
    "scrolled": true
   },
   "outputs": [],
   "source": [
    "df_corr_result = pd.DataFrame()\n",
    "df_corr_result['latlong'] = df_result['latlong'].values\n",
    "for station in tqdm(range(train_df_gauge_array.shape[1])):\n",
    "    station_values = train_df_gauge_array[:, station]\n",
    "    total_latlong = []\n",
    "    for idx, latlong in tqdm(df_result.iterrows()):\n",
    "        latlong_values = latlong.values[1:]\n",
    "        correlation = np.corrcoef(station_values.tolist(), latlong_values.tolist())[0][1]\n",
    "        total_latlong.append(correlation)\n",
    "    df_corr_result['corr_station_'+str(station)] = total_latlong"
   ]
  },
  {
   "cell_type": "code",
   "execution_count": null,
   "metadata": {
    "collapsed": true
   },
   "outputs": [],
   "source": [
    "df_corr_result.to_csv('adit_csv')"
   ]
  },
  {
   "cell_type": "code",
   "execution_count": null,
   "metadata": {},
   "outputs": [],
   "source": [
    "df_corr_result = pd.read_csv('adit.csv')\n",
    "del df_corr_result['Unnamed: 0']"
   ]
  },
  {
   "cell_type": "code",
   "execution_count": null,
   "metadata": {},
   "outputs": [],
   "source": [
    "df_corr_result.sort('corr_station_0',ascending = False)"
   ]
  },
  {
   "cell_type": "code",
   "execution_count": null,
   "metadata": {},
   "outputs": [],
   "source": [
    "len(np.where(pd.isnull(df_corr_result))[0])"
   ]
  },
  {
   "cell_type": "code",
   "execution_count": null,
   "metadata": {},
   "outputs": [],
   "source": [
    "latlong = df_corr_result.values[:,0]"
   ]
  },
  {
   "cell_type": "code",
   "execution_count": null,
   "metadata": {},
   "outputs": [],
   "source": [
    "df_corr_result_array = df_corr_result.values[:,1:]\n",
    "df_corr_result_array.shape"
   ]
  },
  {
   "cell_type": "code",
   "execution_count": null,
   "metadata": {
    "collapsed": true
   },
   "outputs": [],
   "source": [
    "def to_lat(latlong):\n",
    "    return int(latlong // 1000)\n",
    "\n",
    "def to_long(latlong):\n",
    "    return int(latlong % 1000)"
   ]
  },
  {
   "cell_type": "code",
   "execution_count": null,
   "metadata": {},
   "outputs": [],
   "source": [
    "dict_result = {}\n",
    "for station in range(df_corr_result_array.shape[1]):\n",
    "    values = df_corr_result_array[:, station]\n",
    "    index = np.nanargmax(values)\n",
    "    dict_result[str(station)] = {\n",
    "    'lat' : to_lat(latlong[index]),\n",
    "    'long': to_long(latlong[index])\n",
    "    }"
   ]
  },
  {
   "cell_type": "code",
   "execution_count": null,
   "metadata": {
    "collapsed": true
   },
   "outputs": [],
   "source": [
    "import json\n",
    "with open('station_location.json', 'w') as outfile:\n",
    "    json.dump(dict_result, outfile)"
   ]
  },
  {
   "cell_type": "code",
   "execution_count": null,
   "metadata": {},
   "outputs": [],
   "source": [
    "dict_result"
   ]
  }
 ],
 "metadata": {
  "kernelspec": {
   "display_name": "Python 2",
   "language": "python",
   "name": "python2"
  },
  "language_info": {
   "codemirror_mode": {
    "name": "ipython",
    "version": 2
   },
   "file_extension": ".py",
   "mimetype": "text/x-python",
   "name": "python",
   "nbconvert_exporter": "python",
   "pygments_lexer": "ipython2",
   "version": "2.7.13"
  }
 },
 "nbformat": 4,
 "nbformat_minor": 2
}
