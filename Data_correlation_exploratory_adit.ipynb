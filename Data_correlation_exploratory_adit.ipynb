{
 "cells": [
  {
   "cell_type": "code",
   "execution_count": 5,
   "metadata": {},
   "outputs": [],
   "source": [
    "filepath = './datasets'\n",
    "processed_data = './processed_data'\n",
    "gauge_path = filepath+'/gauge.csv'\n",
    "radar_path = filepath+'/radar'"
   ]
  },
  {
   "cell_type": "code",
   "execution_count": 6,
   "metadata": {},
   "outputs": [],
   "source": [
    "from tqdm import tqdm_notebook as tqdm\n",
    "from scipy.stats import pearsonr"
   ]
  },
  {
   "cell_type": "code",
   "execution_count": 7,
   "metadata": {},
   "outputs": [],
   "source": [
    "import pandas as pd\n",
    "import numpy as np\n",
    "import os"
   ]
  },
  {
   "cell_type": "code",
   "execution_count": 54,
   "metadata": {},
   "outputs": [],
   "source": [
    "df_gauge = pd.read_csv(gauge_path)"
   ]
  },
  {
   "cell_type": "code",
   "execution_count": 55,
   "metadata": {},
   "outputs": [
    {
     "data": {
      "application/vnd.jupyter.widget-view+json": {
       "model_id": "d09c5ae8312c4392bbe83fd702248f6f",
       "version_major": 2,
       "version_minor": 0
      },
      "text/html": [
       "<p>Failed to display Jupyter Widget of type <code>HBox</code>.</p>\n",
       "<p>\n",
       "  If you're reading this message in the Jupyter Notebook or JupyterLab Notebook, it may mean\n",
       "  that the widgets JavaScript is still loading. If this message persists, it\n",
       "  likely means that the widgets JavaScript library is either not installed or\n",
       "  not enabled. See the <a href=\"https://ipywidgets.readthedocs.io/en/stable/user_install.html\">Jupyter\n",
       "  Widgets Documentation</a> for setup instructions.\n",
       "</p>\n",
       "<p>\n",
       "  If you're reading this message in another frontend (for example, a static\n",
       "  rendering on GitHub or <a href=\"https://nbviewer.jupyter.org/\">NBViewer</a>),\n",
       "  it may mean that your frontend doesn't currently support widgets.\n",
       "</p>\n"
      ],
      "text/plain": [
       "HBox(children=(IntProgress(value=0, max=31), HTML(value='')))"
      ]
     },
     "metadata": {},
     "output_type": "display_data"
    },
    {
     "name": "stdout",
     "output_type": "stream",
     "text": [
      "\n"
     ]
    }
   ],
   "source": [
    "df_result = pd.DataFrame()\n",
    "train_week = []\n",
    "for filename in tqdm(os.listdir(radar_path)):\n",
    "    week = filename.split('.')[0][-2:]\n",
    "    train_week.append(str(week))\n",
    "    full_radar_path = os.path.join(radar_path, filename)\n",
    "    df_radar = pd.read_csv(full_radar_path)\n",
    "    radar_obs = df_radar.values[:,2:]\n",
    "    radar_arange = np.arange(0, 34)\n",
    "    radar_mean = np.matmul(radar_obs, radar_arange) / 2016.\n",
    "    if 'latlong' not in df_result.columns:\n",
    "        df_result['latlong'] = df_radar['lat'] * 1000 + df_radar['long']\n",
    "    assert np.allclose(df_result['latlong'].values, df_radar['lat'] * 1000 + df_radar['long'])\n",
    "    df_result['mean_week_'+str(week)] = radar_mean"
   ]
  },
  {
   "cell_type": "code",
   "execution_count": 56,
   "metadata": {},
   "outputs": [
    {
     "data": {
      "text/plain": [
       "['18',\n",
       " '36',\n",
       " '38',\n",
       " '31',\n",
       " '44',\n",
       " '16',\n",
       " '41',\n",
       " '21',\n",
       " '47',\n",
       " '33',\n",
       " '48',\n",
       " '17',\n",
       " '20',\n",
       " '51',\n",
       " '39',\n",
       " '35',\n",
       " '22',\n",
       " '15',\n",
       " '37',\n",
       " '29',\n",
       " '45',\n",
       " '13',\n",
       " '26',\n",
       " '19',\n",
       " '23',\n",
       " '49',\n",
       " '50',\n",
       " '46',\n",
       " '32',\n",
       " '24',\n",
       " '28']"
      ]
     },
     "execution_count": 56,
     "metadata": {},
     "output_type": "execute_result"
    }
   ],
   "source": [
    "train_week"
   ]
  },
  {
   "cell_type": "code",
   "execution_count": 57,
   "metadata": {},
   "outputs": [],
   "source": [
    "df_result = df_result[sorted(df_result.columns)]"
   ]
  },
  {
   "cell_type": "code",
   "execution_count": 58,
   "metadata": {},
   "outputs": [
    {
     "data": {
      "text/html": [
       "<div>\n",
       "<style scoped>\n",
       "    .dataframe tbody tr th:only-of-type {\n",
       "        vertical-align: middle;\n",
       "    }\n",
       "\n",
       "    .dataframe tbody tr th {\n",
       "        vertical-align: top;\n",
       "    }\n",
       "\n",
       "    .dataframe thead th {\n",
       "        text-align: right;\n",
       "    }\n",
       "</style>\n",
       "<table border=\"1\" class=\"dataframe\">\n",
       "  <thead>\n",
       "    <tr style=\"text-align: right;\">\n",
       "      <th></th>\n",
       "      <th>latlong</th>\n",
       "      <th>mean_week_13</th>\n",
       "      <th>mean_week_15</th>\n",
       "      <th>mean_week_16</th>\n",
       "      <th>mean_week_17</th>\n",
       "      <th>mean_week_18</th>\n",
       "      <th>mean_week_19</th>\n",
       "      <th>mean_week_20</th>\n",
       "      <th>mean_week_21</th>\n",
       "      <th>mean_week_22</th>\n",
       "      <th>...</th>\n",
       "      <th>mean_week_39</th>\n",
       "      <th>mean_week_41</th>\n",
       "      <th>mean_week_44</th>\n",
       "      <th>mean_week_45</th>\n",
       "      <th>mean_week_46</th>\n",
       "      <th>mean_week_47</th>\n",
       "      <th>mean_week_48</th>\n",
       "      <th>mean_week_49</th>\n",
       "      <th>mean_week_50</th>\n",
       "      <th>mean_week_51</th>\n",
       "    </tr>\n",
       "  </thead>\n",
       "  <tbody>\n",
       "    <tr>\n",
       "      <th>0</th>\n",
       "      <td>0</td>\n",
       "      <td>0.675099</td>\n",
       "      <td>0.382937</td>\n",
       "      <td>0.535714</td>\n",
       "      <td>0.815476</td>\n",
       "      <td>0.248016</td>\n",
       "      <td>0.237599</td>\n",
       "      <td>0.416667</td>\n",
       "      <td>0.908730</td>\n",
       "      <td>0.306052</td>\n",
       "      <td>...</td>\n",
       "      <td>0.193948</td>\n",
       "      <td>0.994544</td>\n",
       "      <td>0.695933</td>\n",
       "      <td>1.006944</td>\n",
       "      <td>1.025298</td>\n",
       "      <td>0.670139</td>\n",
       "      <td>0.461310</td>\n",
       "      <td>0.645337</td>\n",
       "      <td>0.406250</td>\n",
       "      <td>0.157242</td>\n",
       "    </tr>\n",
       "    <tr>\n",
       "      <th>1</th>\n",
       "      <td>1</td>\n",
       "      <td>0.714782</td>\n",
       "      <td>0.382440</td>\n",
       "      <td>0.493552</td>\n",
       "      <td>0.841270</td>\n",
       "      <td>0.258433</td>\n",
       "      <td>0.266369</td>\n",
       "      <td>0.450397</td>\n",
       "      <td>0.963790</td>\n",
       "      <td>0.289187</td>\n",
       "      <td>...</td>\n",
       "      <td>0.164683</td>\n",
       "      <td>0.980655</td>\n",
       "      <td>0.738591</td>\n",
       "      <td>1.010417</td>\n",
       "      <td>1.021825</td>\n",
       "      <td>0.635913</td>\n",
       "      <td>0.457341</td>\n",
       "      <td>0.637897</td>\n",
       "      <td>0.339782</td>\n",
       "      <td>0.183532</td>\n",
       "    </tr>\n",
       "    <tr>\n",
       "      <th>2</th>\n",
       "      <td>2</td>\n",
       "      <td>0.742063</td>\n",
       "      <td>0.411706</td>\n",
       "      <td>0.519345</td>\n",
       "      <td>0.859127</td>\n",
       "      <td>0.235615</td>\n",
       "      <td>0.260417</td>\n",
       "      <td>0.466270</td>\n",
       "      <td>0.968254</td>\n",
       "      <td>0.324901</td>\n",
       "      <td>...</td>\n",
       "      <td>0.145833</td>\n",
       "      <td>0.958333</td>\n",
       "      <td>0.691468</td>\n",
       "      <td>1.002480</td>\n",
       "      <td>1.012897</td>\n",
       "      <td>0.616071</td>\n",
       "      <td>0.469742</td>\n",
       "      <td>0.611607</td>\n",
       "      <td>0.336806</td>\n",
       "      <td>0.154266</td>\n",
       "    </tr>\n",
       "    <tr>\n",
       "      <th>3</th>\n",
       "      <td>3</td>\n",
       "      <td>0.746032</td>\n",
       "      <td>0.380456</td>\n",
       "      <td>0.522321</td>\n",
       "      <td>0.887897</td>\n",
       "      <td>0.247520</td>\n",
       "      <td>0.278274</td>\n",
       "      <td>0.474702</td>\n",
       "      <td>0.954365</td>\n",
       "      <td>0.307540</td>\n",
       "      <td>...</td>\n",
       "      <td>0.157738</td>\n",
       "      <td>0.932044</td>\n",
       "      <td>0.755952</td>\n",
       "      <td>1.075893</td>\n",
       "      <td>1.037202</td>\n",
       "      <td>0.561012</td>\n",
       "      <td>0.494048</td>\n",
       "      <td>0.574405</td>\n",
       "      <td>0.350694</td>\n",
       "      <td>0.157242</td>\n",
       "    </tr>\n",
       "    <tr>\n",
       "      <th>4</th>\n",
       "      <td>4</td>\n",
       "      <td>0.745536</td>\n",
       "      <td>0.380456</td>\n",
       "      <td>0.519345</td>\n",
       "      <td>0.860119</td>\n",
       "      <td>0.248016</td>\n",
       "      <td>0.277778</td>\n",
       "      <td>0.472222</td>\n",
       "      <td>0.950893</td>\n",
       "      <td>0.304563</td>\n",
       "      <td>...</td>\n",
       "      <td>0.155258</td>\n",
       "      <td>0.923115</td>\n",
       "      <td>0.771825</td>\n",
       "      <td>1.070933</td>\n",
       "      <td>1.038690</td>\n",
       "      <td>0.553075</td>\n",
       "      <td>0.499008</td>\n",
       "      <td>0.573909</td>\n",
       "      <td>0.352183</td>\n",
       "      <td>0.154266</td>\n",
       "    </tr>\n",
       "  </tbody>\n",
       "</table>\n",
       "<p>5 rows × 32 columns</p>\n",
       "</div>"
      ],
      "text/plain": [
       "   latlong  mean_week_13  mean_week_15  mean_week_16  mean_week_17  \\\n",
       "0        0      0.675099      0.382937      0.535714      0.815476   \n",
       "1        1      0.714782      0.382440      0.493552      0.841270   \n",
       "2        2      0.742063      0.411706      0.519345      0.859127   \n",
       "3        3      0.746032      0.380456      0.522321      0.887897   \n",
       "4        4      0.745536      0.380456      0.519345      0.860119   \n",
       "\n",
       "   mean_week_18  mean_week_19  mean_week_20  mean_week_21  mean_week_22  \\\n",
       "0      0.248016      0.237599      0.416667      0.908730      0.306052   \n",
       "1      0.258433      0.266369      0.450397      0.963790      0.289187   \n",
       "2      0.235615      0.260417      0.466270      0.968254      0.324901   \n",
       "3      0.247520      0.278274      0.474702      0.954365      0.307540   \n",
       "4      0.248016      0.277778      0.472222      0.950893      0.304563   \n",
       "\n",
       "       ...       mean_week_39  mean_week_41  mean_week_44  mean_week_45  \\\n",
       "0      ...           0.193948      0.994544      0.695933      1.006944   \n",
       "1      ...           0.164683      0.980655      0.738591      1.010417   \n",
       "2      ...           0.145833      0.958333      0.691468      1.002480   \n",
       "3      ...           0.157738      0.932044      0.755952      1.075893   \n",
       "4      ...           0.155258      0.923115      0.771825      1.070933   \n",
       "\n",
       "   mean_week_46  mean_week_47  mean_week_48  mean_week_49  mean_week_50  \\\n",
       "0      1.025298      0.670139      0.461310      0.645337      0.406250   \n",
       "1      1.021825      0.635913      0.457341      0.637897      0.339782   \n",
       "2      1.012897      0.616071      0.469742      0.611607      0.336806   \n",
       "3      1.037202      0.561012      0.494048      0.574405      0.350694   \n",
       "4      1.038690      0.553075      0.499008      0.573909      0.352183   \n",
       "\n",
       "   mean_week_51  \n",
       "0      0.157242  \n",
       "1      0.183532  \n",
       "2      0.154266  \n",
       "3      0.157242  \n",
       "4      0.154266  \n",
       "\n",
       "[5 rows x 32 columns]"
      ]
     },
     "execution_count": 58,
     "metadata": {},
     "output_type": "execute_result"
    }
   ],
   "source": [
    "df_result.head()"
   ]
  },
  {
   "cell_type": "code",
   "execution_count": 59,
   "metadata": {},
   "outputs": [],
   "source": [
    "df_gauge = pd.read_csv(gauge_path)"
   ]
  },
  {
   "cell_type": "code",
   "execution_count": 60,
   "metadata": {
    "scrolled": true
   },
   "outputs": [
    {
     "data": {
      "text/plain": [
       "357"
      ]
     },
     "execution_count": 60,
     "metadata": {},
     "output_type": "execute_result"
    }
   ],
   "source": [
    "len(np.where(pd.isnull(df_gauge))[0])"
   ]
  },
  {
   "cell_type": "code",
   "execution_count": 61,
   "metadata": {},
   "outputs": [],
   "source": [
    "df_gauge['Year'] = df_gauge['Year'].astype(str)\n",
    "df_gauge['Week'] = df_gauge['Week'].astype(str)\n",
    "df_gauge = df_gauge.apply(lambda x: x.fillna(x[2:].mean()),axis=1)"
   ]
  },
  {
   "cell_type": "code",
   "execution_count": 62,
   "metadata": {},
   "outputs": [],
   "source": [
    "train_week = sorted(train_week)"
   ]
  },
  {
   "cell_type": "code",
   "execution_count": 63,
   "metadata": {},
   "outputs": [],
   "source": [
    "train_bool = df_gauge['Week'].apply(lambda x : x in train_week)\n",
    "train_df_gauge = df_gauge[train_bool]"
   ]
  },
  {
   "cell_type": "code",
   "execution_count": 64,
   "metadata": {},
   "outputs": [],
   "source": [
    "train_df_gauge_array = train_df_gauge.values[:, 2:]"
   ]
  },
  {
   "cell_type": "code",
   "execution_count": 65,
   "metadata": {},
   "outputs": [
    {
     "data": {
      "text/html": [
       "<div>\n",
       "<style scoped>\n",
       "    .dataframe tbody tr th:only-of-type {\n",
       "        vertical-align: middle;\n",
       "    }\n",
       "\n",
       "    .dataframe tbody tr th {\n",
       "        vertical-align: top;\n",
       "    }\n",
       "\n",
       "    .dataframe thead th {\n",
       "        text-align: right;\n",
       "    }\n",
       "</style>\n",
       "<table border=\"1\" class=\"dataframe\">\n",
       "  <thead>\n",
       "    <tr style=\"text-align: right;\">\n",
       "      <th></th>\n",
       "      <th>Year</th>\n",
       "      <th>Week</th>\n",
       "      <th>0</th>\n",
       "      <th>1</th>\n",
       "      <th>2</th>\n",
       "      <th>3</th>\n",
       "      <th>4</th>\n",
       "      <th>5</th>\n",
       "      <th>6</th>\n",
       "      <th>7</th>\n",
       "      <th>...</th>\n",
       "      <th>40</th>\n",
       "      <th>41</th>\n",
       "      <th>42</th>\n",
       "      <th>43</th>\n",
       "      <th>44</th>\n",
       "      <th>45</th>\n",
       "      <th>46</th>\n",
       "      <th>47</th>\n",
       "      <th>48</th>\n",
       "      <th>49</th>\n",
       "    </tr>\n",
       "  </thead>\n",
       "  <tbody>\n",
       "    <tr>\n",
       "      <th>12</th>\n",
       "      <td>2017</td>\n",
       "      <td>13</td>\n",
       "      <td>36.8</td>\n",
       "      <td>30.0</td>\n",
       "      <td>48.2</td>\n",
       "      <td>78.6</td>\n",
       "      <td>67.4</td>\n",
       "      <td>45.6</td>\n",
       "      <td>77.6</td>\n",
       "      <td>21.6</td>\n",
       "      <td>...</td>\n",
       "      <td>37.800000</td>\n",
       "      <td>34.0</td>\n",
       "      <td>43.645455</td>\n",
       "      <td>19.4</td>\n",
       "      <td>25.2</td>\n",
       "      <td>26.6</td>\n",
       "      <td>4.8</td>\n",
       "      <td>57.000000</td>\n",
       "      <td>107.000000</td>\n",
       "      <td>54.000000</td>\n",
       "    </tr>\n",
       "    <tr>\n",
       "      <th>14</th>\n",
       "      <td>2017</td>\n",
       "      <td>15</td>\n",
       "      <td>43.8</td>\n",
       "      <td>90.4</td>\n",
       "      <td>82.6</td>\n",
       "      <td>13.2</td>\n",
       "      <td>45.8</td>\n",
       "      <td>86.6</td>\n",
       "      <td>34.6</td>\n",
       "      <td>38.4</td>\n",
       "      <td>...</td>\n",
       "      <td>46.000000</td>\n",
       "      <td>99.0</td>\n",
       "      <td>66.773810</td>\n",
       "      <td>66.6</td>\n",
       "      <td>72.9</td>\n",
       "      <td>76.2</td>\n",
       "      <td>82.4</td>\n",
       "      <td>53.600000</td>\n",
       "      <td>21.800000</td>\n",
       "      <td>66.773810</td>\n",
       "    </tr>\n",
       "    <tr>\n",
       "      <th>15</th>\n",
       "      <td>2017</td>\n",
       "      <td>16</td>\n",
       "      <td>98.8</td>\n",
       "      <td>134.0</td>\n",
       "      <td>68.2</td>\n",
       "      <td>74.8</td>\n",
       "      <td>77.7</td>\n",
       "      <td>86.4</td>\n",
       "      <td>37.8</td>\n",
       "      <td>102.6</td>\n",
       "      <td>...</td>\n",
       "      <td>97.579487</td>\n",
       "      <td>139.0</td>\n",
       "      <td>97.579487</td>\n",
       "      <td>58.6</td>\n",
       "      <td>69.7</td>\n",
       "      <td>68.2</td>\n",
       "      <td>162.6</td>\n",
       "      <td>97.579487</td>\n",
       "      <td>43.000000</td>\n",
       "      <td>97.579487</td>\n",
       "    </tr>\n",
       "    <tr>\n",
       "      <th>16</th>\n",
       "      <td>2017</td>\n",
       "      <td>17</td>\n",
       "      <td>100.2</td>\n",
       "      <td>56.0</td>\n",
       "      <td>82.8</td>\n",
       "      <td>69.2</td>\n",
       "      <td>127.3</td>\n",
       "      <td>84.6</td>\n",
       "      <td>78.0</td>\n",
       "      <td>24.8</td>\n",
       "      <td>...</td>\n",
       "      <td>64.136842</td>\n",
       "      <td>46.2</td>\n",
       "      <td>89.200000</td>\n",
       "      <td>28.0</td>\n",
       "      <td>38.7</td>\n",
       "      <td>112.6</td>\n",
       "      <td>17.8</td>\n",
       "      <td>34.600000</td>\n",
       "      <td>64.136842</td>\n",
       "      <td>32.400000</td>\n",
       "    </tr>\n",
       "    <tr>\n",
       "      <th>17</th>\n",
       "      <td>2017</td>\n",
       "      <td>18</td>\n",
       "      <td>2.0</td>\n",
       "      <td>76.0</td>\n",
       "      <td>1.6</td>\n",
       "      <td>1.2</td>\n",
       "      <td>54.5</td>\n",
       "      <td>25.2</td>\n",
       "      <td>30.4</td>\n",
       "      <td>49.8</td>\n",
       "      <td>...</td>\n",
       "      <td>36.884211</td>\n",
       "      <td>24.8</td>\n",
       "      <td>36.884211</td>\n",
       "      <td>29.2</td>\n",
       "      <td>25.5</td>\n",
       "      <td>109.8</td>\n",
       "      <td>71.6</td>\n",
       "      <td>14.000000</td>\n",
       "      <td>36.884211</td>\n",
       "      <td>9.600000</td>\n",
       "    </tr>\n",
       "  </tbody>\n",
       "</table>\n",
       "<p>5 rows × 52 columns</p>\n",
       "</div>"
      ],
      "text/plain": [
       "    Year Week      0      1     2     3      4     5     6      7    ...      \\\n",
       "12  2017   13   36.8   30.0  48.2  78.6   67.4  45.6  77.6   21.6    ...       \n",
       "14  2017   15   43.8   90.4  82.6  13.2   45.8  86.6  34.6   38.4    ...       \n",
       "15  2017   16   98.8  134.0  68.2  74.8   77.7  86.4  37.8  102.6    ...       \n",
       "16  2017   17  100.2   56.0  82.8  69.2  127.3  84.6  78.0   24.8    ...       \n",
       "17  2017   18    2.0   76.0   1.6   1.2   54.5  25.2  30.4   49.8    ...       \n",
       "\n",
       "           40     41         42    43    44     45     46         47  \\\n",
       "12  37.800000   34.0  43.645455  19.4  25.2   26.6    4.8  57.000000   \n",
       "14  46.000000   99.0  66.773810  66.6  72.9   76.2   82.4  53.600000   \n",
       "15  97.579487  139.0  97.579487  58.6  69.7   68.2  162.6  97.579487   \n",
       "16  64.136842   46.2  89.200000  28.0  38.7  112.6   17.8  34.600000   \n",
       "17  36.884211   24.8  36.884211  29.2  25.5  109.8   71.6  14.000000   \n",
       "\n",
       "            48         49  \n",
       "12  107.000000  54.000000  \n",
       "14   21.800000  66.773810  \n",
       "15   43.000000  97.579487  \n",
       "16   64.136842  32.400000  \n",
       "17   36.884211   9.600000  \n",
       "\n",
       "[5 rows x 52 columns]"
      ]
     },
     "execution_count": 65,
     "metadata": {},
     "output_type": "execute_result"
    }
   ],
   "source": [
    "train_df_gauge.head()"
   ]
  },
  {
   "cell_type": "code",
   "execution_count": 66,
   "metadata": {},
   "outputs": [
    {
     "data": {
      "text/plain": [
       "(31, 50)"
      ]
     },
     "execution_count": 66,
     "metadata": {},
     "output_type": "execute_result"
    }
   ],
   "source": [
    "train_df_gauge_array.shape"
   ]
  },
  {
   "cell_type": "code",
   "execution_count": 67,
   "metadata": {},
   "outputs": [
    {
     "data": {
      "text/plain": [
       "array([     0,      1,      2, ..., 479477, 479478, 479479])"
      ]
     },
     "execution_count": 67,
     "metadata": {},
     "output_type": "execute_result"
    }
   ],
   "source": [
    "df_result['latlong'].values"
   ]
  },
  {
   "cell_type": "code",
   "execution_count": 69,
   "metadata": {},
   "outputs": [
    {
     "name": "stdout",
     "output_type": "stream",
     "text": [
      "(array([], dtype=int64), array([], dtype=int64))\n",
      "(array([], dtype=int64), array([], dtype=int64))\n"
     ]
    }
   ],
   "source": [
    "print (np.where(pd.isnull(train_df_gauge_array)))\n",
    "print (np.where(pd.isnull(df_result)))"
   ]
  },
  {
   "cell_type": "code",
   "execution_count": null,
   "metadata": {
    "scrolled": true
   },
   "outputs": [],
   "source": [
    "df_corr_result = pd.DataFrame()\n",
    "df_corr_result['latlong'] = df_result['latlong'].values\n",
    "for station in tqdm(range(train_df_gauge_array.shape[1])):\n",
    "    station_values = train_df_gauge_array[:, station]\n",
    "    total_latlong = []\n",
    "    for idx, latlong in tqdm(df_result.iterrows()):\n",
    "        latlong_values = latlong.values[1:]\n",
    "        correlation = np.corrcoef(station_values.tolist(), latlong_values.tolist())[0][1]\n",
    "        total_latlong.append(correlation)\n",
    "    df_corr_result['corr_station_'+str(station)] = total_latlong"
   ]
  },
  {
   "cell_type": "code",
   "execution_count": 131,
   "metadata": {},
   "outputs": [],
   "source": [
    "df_corr_result = pd.read_csv('toto_corr_45.csv')\n",
    "df_corr_result = df_corr_result.fillna(0.0)"
   ]
  },
  {
   "cell_type": "code",
   "execution_count": 132,
   "metadata": {},
   "outputs": [
    {
     "data": {
      "text/html": [
       "<div>\n",
       "<style scoped>\n",
       "    .dataframe tbody tr th:only-of-type {\n",
       "        vertical-align: middle;\n",
       "    }\n",
       "\n",
       "    .dataframe tbody tr th {\n",
       "        vertical-align: top;\n",
       "    }\n",
       "\n",
       "    .dataframe thead th {\n",
       "        text-align: right;\n",
       "    }\n",
       "</style>\n",
       "<table border=\"1\" class=\"dataframe\">\n",
       "  <thead>\n",
       "    <tr style=\"text-align: right;\">\n",
       "      <th></th>\n",
       "      <th>lat</th>\n",
       "      <th>long</th>\n",
       "      <th>corr_station_0</th>\n",
       "      <th>corr_station_1</th>\n",
       "      <th>corr_station_2</th>\n",
       "      <th>corr_station_3</th>\n",
       "      <th>corr_station_4</th>\n",
       "      <th>corr_station_5</th>\n",
       "      <th>corr_station_6</th>\n",
       "      <th>corr_station_7</th>\n",
       "      <th>...</th>\n",
       "      <th>corr_station_42</th>\n",
       "      <th>corr_station_43</th>\n",
       "      <th>corr_station_44</th>\n",
       "      <th>corr_station_45</th>\n",
       "      <th>corr_station_46</th>\n",
       "      <th>corr_station_47</th>\n",
       "      <th>corr_station_48</th>\n",
       "      <th>corr_station_49</th>\n",
       "      <th>x</th>\n",
       "      <th>y</th>\n",
       "    </tr>\n",
       "  </thead>\n",
       "  <tbody>\n",
       "    <tr>\n",
       "      <th>19128</th>\n",
       "      <td>1.4626</td>\n",
       "      <td>103.6506</td>\n",
       "      <td>0.341151</td>\n",
       "      <td>0.386757</td>\n",
       "      <td>0.212099</td>\n",
       "      <td>0.186730</td>\n",
       "      <td>0.173509</td>\n",
       "      <td>0.436805</td>\n",
       "      <td>0.091700</td>\n",
       "      <td>0.211649</td>\n",
       "      <td>...</td>\n",
       "      <td>0.292993</td>\n",
       "      <td>0.393900</td>\n",
       "      <td>0.380867</td>\n",
       "      <td>0.202563</td>\n",
       "      <td>0.471756</td>\n",
       "      <td>0.459866</td>\n",
       "      <td>0.230946</td>\n",
       "      <td>0.741116</td>\n",
       "      <td>197</td>\n",
       "      <td>119</td>\n",
       "    </tr>\n",
       "    <tr>\n",
       "      <th>18230</th>\n",
       "      <td>1.4495</td>\n",
       "      <td>103.6532</td>\n",
       "      <td>0.312487</td>\n",
       "      <td>0.489154</td>\n",
       "      <td>0.300940</td>\n",
       "      <td>0.132599</td>\n",
       "      <td>0.130493</td>\n",
       "      <td>0.359512</td>\n",
       "      <td>0.143375</td>\n",
       "      <td>0.118871</td>\n",
       "      <td>...</td>\n",
       "      <td>0.399920</td>\n",
       "      <td>0.416286</td>\n",
       "      <td>0.436772</td>\n",
       "      <td>0.163896</td>\n",
       "      <td>0.417021</td>\n",
       "      <td>0.301902</td>\n",
       "      <td>0.202850</td>\n",
       "      <td>0.739824</td>\n",
       "      <td>202</td>\n",
       "      <td>120</td>\n",
       "    </tr>\n",
       "    <tr>\n",
       "      <th>18979</th>\n",
       "      <td>1.4600</td>\n",
       "      <td>103.6480</td>\n",
       "      <td>0.321431</td>\n",
       "      <td>0.376741</td>\n",
       "      <td>0.228763</td>\n",
       "      <td>0.149438</td>\n",
       "      <td>0.146362</td>\n",
       "      <td>0.399938</td>\n",
       "      <td>0.063213</td>\n",
       "      <td>0.156051</td>\n",
       "      <td>...</td>\n",
       "      <td>0.297337</td>\n",
       "      <td>0.398730</td>\n",
       "      <td>0.397497</td>\n",
       "      <td>0.193811</td>\n",
       "      <td>0.452855</td>\n",
       "      <td>0.395733</td>\n",
       "      <td>0.192498</td>\n",
       "      <td>0.734884</td>\n",
       "      <td>198</td>\n",
       "      <td>118</td>\n",
       "    </tr>\n",
       "    <tr>\n",
       "      <th>18674</th>\n",
       "      <td>1.4548</td>\n",
       "      <td>103.6506</td>\n",
       "      <td>0.286155</td>\n",
       "      <td>0.450447</td>\n",
       "      <td>0.212053</td>\n",
       "      <td>0.167323</td>\n",
       "      <td>0.096221</td>\n",
       "      <td>0.324213</td>\n",
       "      <td>0.082152</td>\n",
       "      <td>0.126494</td>\n",
       "      <td>...</td>\n",
       "      <td>0.339285</td>\n",
       "      <td>0.403489</td>\n",
       "      <td>0.430749</td>\n",
       "      <td>0.093744</td>\n",
       "      <td>0.407837</td>\n",
       "      <td>0.271155</td>\n",
       "      <td>0.196749</td>\n",
       "      <td>0.731267</td>\n",
       "      <td>200</td>\n",
       "      <td>119</td>\n",
       "    </tr>\n",
       "    <tr>\n",
       "      <th>18676</th>\n",
       "      <td>1.4548</td>\n",
       "      <td>103.6558</td>\n",
       "      <td>0.232719</td>\n",
       "      <td>0.385105</td>\n",
       "      <td>0.176996</td>\n",
       "      <td>0.090617</td>\n",
       "      <td>0.072255</td>\n",
       "      <td>0.382798</td>\n",
       "      <td>0.067071</td>\n",
       "      <td>0.045307</td>\n",
       "      <td>...</td>\n",
       "      <td>0.254111</td>\n",
       "      <td>0.363142</td>\n",
       "      <td>0.375104</td>\n",
       "      <td>0.119945</td>\n",
       "      <td>0.340763</td>\n",
       "      <td>0.246210</td>\n",
       "      <td>0.189247</td>\n",
       "      <td>0.726995</td>\n",
       "      <td>200</td>\n",
       "      <td>121</td>\n",
       "    </tr>\n",
       "  </tbody>\n",
       "</table>\n",
       "<p>5 rows × 54 columns</p>\n",
       "</div>"
      ],
      "text/plain": [
       "          lat      long  corr_station_0  corr_station_1  corr_station_2  \\\n",
       "19128  1.4626  103.6506        0.341151        0.386757        0.212099   \n",
       "18230  1.4495  103.6532        0.312487        0.489154        0.300940   \n",
       "18979  1.4600  103.6480        0.321431        0.376741        0.228763   \n",
       "18674  1.4548  103.6506        0.286155        0.450447        0.212053   \n",
       "18676  1.4548  103.6558        0.232719        0.385105        0.176996   \n",
       "\n",
       "       corr_station_3  corr_station_4  corr_station_5  corr_station_6  \\\n",
       "19128        0.186730        0.173509        0.436805        0.091700   \n",
       "18230        0.132599        0.130493        0.359512        0.143375   \n",
       "18979        0.149438        0.146362        0.399938        0.063213   \n",
       "18674        0.167323        0.096221        0.324213        0.082152   \n",
       "18676        0.090617        0.072255        0.382798        0.067071   \n",
       "\n",
       "       corr_station_7 ...   corr_station_42  corr_station_43  corr_station_44  \\\n",
       "19128        0.211649 ...          0.292993         0.393900         0.380867   \n",
       "18230        0.118871 ...          0.399920         0.416286         0.436772   \n",
       "18979        0.156051 ...          0.297337         0.398730         0.397497   \n",
       "18674        0.126494 ...          0.339285         0.403489         0.430749   \n",
       "18676        0.045307 ...          0.254111         0.363142         0.375104   \n",
       "\n",
       "       corr_station_45  corr_station_46  corr_station_47  corr_station_48  \\\n",
       "19128         0.202563         0.471756         0.459866         0.230946   \n",
       "18230         0.163896         0.417021         0.301902         0.202850   \n",
       "18979         0.193811         0.452855         0.395733         0.192498   \n",
       "18674         0.093744         0.407837         0.271155         0.196749   \n",
       "18676         0.119945         0.340763         0.246210         0.189247   \n",
       "\n",
       "       corr_station_49    x    y  \n",
       "19128         0.741116  197  119  \n",
       "18230         0.739824  202  120  \n",
       "18979         0.734884  198  118  \n",
       "18674         0.731267  200  119  \n",
       "18676         0.726995  200  121  \n",
       "\n",
       "[5 rows x 54 columns]"
      ]
     },
     "execution_count": 132,
     "metadata": {},
     "output_type": "execute_result"
    }
   ],
   "source": [
    "df_corr_result.sort_values('corr_station_49', ascending = False).head()"
   ]
  },
  {
   "cell_type": "code",
   "execution_count": 133,
   "metadata": {},
   "outputs": [
    {
     "data": {
      "text/plain": [
       "0"
      ]
     },
     "execution_count": 133,
     "metadata": {},
     "output_type": "execute_result"
    }
   ],
   "source": [
    "len(np.where(pd.isnull(df_corr_result))[0])"
   ]
  },
  {
   "cell_type": "code",
   "execution_count": 134,
   "metadata": {},
   "outputs": [],
   "source": [
    "lat = df_corr_result.values[:,0]\n",
    "long = df_corr_result.values[:, 1]\n",
    "x = df_corr_result.values[:,52]\n",
    "y = df_corr_result.values[:,53]"
   ]
  },
  {
   "cell_type": "code",
   "execution_count": 135,
   "metadata": {},
   "outputs": [
    {
     "data": {
      "text/plain": [
       "(20223,)"
      ]
     },
     "execution_count": 135,
     "metadata": {},
     "output_type": "execute_result"
    }
   ],
   "source": [
    "x.shape"
   ]
  },
  {
   "cell_type": "code",
   "execution_count": 136,
   "metadata": {},
   "outputs": [
    {
     "data": {
      "text/plain": [
       "Index(['corr_station_0', 'corr_station_1', 'corr_station_2', 'corr_station_3',\n",
       "       'corr_station_4', 'corr_station_5', 'corr_station_6', 'corr_station_7',\n",
       "       'corr_station_8', 'corr_station_9', 'corr_station_10',\n",
       "       'corr_station_11', 'corr_station_12', 'corr_station_13',\n",
       "       'corr_station_14', 'corr_station_15', 'corr_station_16',\n",
       "       'corr_station_17', 'corr_station_18', 'corr_station_19',\n",
       "       'corr_station_20', 'corr_station_21', 'corr_station_22',\n",
       "       'corr_station_23', 'corr_station_24', 'corr_station_25',\n",
       "       'corr_station_26', 'corr_station_27', 'corr_station_28',\n",
       "       'corr_station_29', 'corr_station_30', 'corr_station_31',\n",
       "       'corr_station_32', 'corr_station_33', 'corr_station_34',\n",
       "       'corr_station_35', 'corr_station_36', 'corr_station_37',\n",
       "       'corr_station_38', 'corr_station_39', 'corr_station_40',\n",
       "       'corr_station_41', 'corr_station_42', 'corr_station_43',\n",
       "       'corr_station_44', 'corr_station_45', 'corr_station_46',\n",
       "       'corr_station_47', 'corr_station_48', 'corr_station_49'],\n",
       "      dtype='object')"
      ]
     },
     "execution_count": 136,
     "metadata": {},
     "output_type": "execute_result"
    }
   ],
   "source": [
    "df_corr_result.columns[2:52]"
   ]
  },
  {
   "cell_type": "code",
   "execution_count": 137,
   "metadata": {},
   "outputs": [
    {
     "data": {
      "text/plain": [
       "(20223, 50)"
      ]
     },
     "execution_count": 137,
     "metadata": {},
     "output_type": "execute_result"
    }
   ],
   "source": [
    "df_corr_result_array = df_corr_result.values[:,2:52]\n",
    "df_corr_result_array.shape"
   ]
  },
  {
   "cell_type": "code",
   "execution_count": 138,
   "metadata": {},
   "outputs": [],
   "source": [
    "from GoogleMap import is_in_sg"
   ]
  },
  {
   "cell_type": "code",
   "execution_count": 139,
   "metadata": {},
   "outputs": [],
   "source": [
    "dict_result = {}\n",
    "for station in range(df_corr_result_array.shape[1]):\n",
    "    values = df_corr_result_array[:, station]\n",
    "    index = values.argsort()[::-1]\n",
    "    for chosen_index in index:\n",
    "        if is_in_sg(lat[chosen_index], long[chosen_index]):  \n",
    "            dict_result[str(station)] = {\n",
    "            'lat' : lat[chosen_index],\n",
    "            'long': long[chosen_index],\n",
    "            'x': x[chosen_index],\n",
    "            'y': y[chosen_index]\n",
    "            }\n",
    "            break"
   ]
  },
  {
   "cell_type": "code",
   "execution_count": 140,
   "metadata": {},
   "outputs": [],
   "source": [
    "import json\n",
    "with open('station_location.json_new', 'w') as outfile:\n",
    "    json.dump(dict_result, outfile)"
   ]
  },
  {
   "cell_type": "code",
   "execution_count": 141,
   "metadata": {},
   "outputs": [
    {
     "data": {
      "text/plain": [
       "{'0': {'lat': 1.347, 'long': 103.9264, 'x': 241.0, 'y': 224.0},\n",
       " '1': {'lat': 1.4075, 'long': 103.6952, 'x': 218.0, 'y': 136.0},\n",
       " '10': {'lat': 1.4233, 'long': 103.6742, 'x': 212.0, 'y': 128.0},\n",
       " '11': {'lat': 1.2946, 'long': 103.795, 'x': 261.0, 'y': 174.0},\n",
       " '12': {'lat': 1.3418, 'long': 103.9316, 'x': 243.0, 'y': 226.0},\n",
       " '13': {'lat': 1.2972, 'long': 103.8528, 'x': 260.0, 'y': 196.0},\n",
       " '14': {'lat': 1.3155, 'long': 103.8686, 'x': 253.0, 'y': 202.0},\n",
       " '15': {'lat': 1.2263, 'long': 103.7399, 'x': 287.0, 'y': 153.0},\n",
       " '16': {'lat': 1.3155, 'long': 103.8686, 'x': 253.0, 'y': 202.0},\n",
       " '17': {'lat': 1.3839, 'long': 103.6611, 'x': 227.0, 'y': 123.0},\n",
       " '18': {'lat': 1.263, 'long': 103.8134, 'x': 273.0, 'y': 181.0},\n",
       " '19': {'lat': 1.2289, 'long': 103.7399, 'x': 286.0, 'y': 153.0},\n",
       " '2': {'lat': 1.3418, 'long': 103.8896, 'x': 243.0, 'y': 210.0},\n",
       " '20': {'lat': 1.3891, 'long': 103.7399, 'x': 225.0, 'y': 153.0},\n",
       " '21': {'lat': 1.1974, 'long': 103.8791, 'x': 298.0, 'y': 206.0},\n",
       " '22': {'lat': 1.347, 'long': 103.929, 'x': 241.0, 'y': 225.0},\n",
       " '23': {'lat': 1.3575, 'long': 103.9343, 'x': 237.0, 'y': 227.0},\n",
       " '24': {'lat': 1.3786, 'long': 103.7583, 'x': 229.0, 'y': 160.0},\n",
       " '25': {'lat': 1.2263, 'long': 103.7399, 'x': 287.0, 'y': 153.0},\n",
       " '26': {'lat': 1.3944, 'long': 103.6874, 'x': 223.0, 'y': 133.0},\n",
       " '27': {'lat': 1.305, 'long': 103.8292, 'x': 257.0, 'y': 187.0},\n",
       " '28': {'lat': 1.3208, 'long': 103.7583, 'x': 251.0, 'y': 160.0},\n",
       " '29': {'lat': 1.347, 'long': 103.929, 'x': 241.0, 'y': 225.0},\n",
       " '3': {'lat': 1.347, 'long': 103.9868, 'x': 241.0, 'y': 247.0},\n",
       " '30': {'lat': 1.3155, 'long': 103.8686, 'x': 253.0, 'y': 202.0},\n",
       " '31': {'lat': 1.376, 'long': 103.7373, 'x': 230.0, 'y': 152.0},\n",
       " '32': {'lat': 1.2946, 'long': 103.7162, 'x': 261.0, 'y': 144.0},\n",
       " '33': {'lat': 1.305, 'long': 103.9159, 'x': 257.0, 'y': 220.0},\n",
       " '34': {'lat': 1.2683, 'long': 103.8187, 'x': 271.0, 'y': 183.0},\n",
       " '35': {'lat': 1.2578, 'long': 103.8082, 'x': 275.0, 'y': 179.0},\n",
       " '36': {'lat': 1.2972, 'long': 103.8528, 'x': 260.0, 'y': 196.0},\n",
       " '37': {'lat': 1.4022, 'long': 103.7084, 'x': 220.0, 'y': 141.0},\n",
       " '38': {'lat': 1.347, 'long': 103.9868, 'x': 241.0, 'y': 247.0},\n",
       " '39': {'lat': 1.3865, 'long': 103.7031, 'x': 226.0, 'y': 139.0},\n",
       " '4': {'lat': 1.2709, 'long': 103.8265, 'x': 270.0, 'y': 186.0},\n",
       " '40': {'lat': 1.2867, 'long': 103.8423, 'x': 264.0, 'y': 192.0},\n",
       " '41': {'lat': 1.2867, 'long': 103.8423, 'x': 264.0, 'y': 192.0},\n",
       " '42': {'lat': 1.2893, 'long': 103.866, 'x': 263.0, 'y': 201.0},\n",
       " '43': {'lat': 1.3969999999999998, 'long': 103.8029, 'x': 222.0, 'y': 177.0},\n",
       " '44': {'lat': 1.3076, 'long': 103.9264, 'x': 256.0, 'y': 224.0},\n",
       " '45': {'lat': 1.2841, 'long': 103.75299999999999, 'x': 265.0, 'y': 158.0},\n",
       " '46': {'lat': 1.3628, 'long': 103.7635, 'x': 235.0, 'y': 162.0},\n",
       " '47': {'lat': 1.3234, 'long': 103.8423, 'x': 250.0, 'y': 192.0},\n",
       " '48': {'lat': 1.3077, 'long': 103.866, 'x': 256.0, 'y': 201.0},\n",
       " '49': {'lat': 1.1974, 'long': 103.8397, 'x': 298.0, 'y': 191.0},\n",
       " '5': {'lat': 1.2394, 'long': 103.7661, 'x': 282.0, 'y': 163.0},\n",
       " '6': {'lat': 1.3523, 'long': 103.9632, 'x': 239.0, 'y': 238.0},\n",
       " '7': {'lat': 1.3891, 'long': 103.7951, 'x': 225.0, 'y': 174.0},\n",
       " '8': {'lat': 1.3838, 'long': 103.7951, 'x': 227.0, 'y': 174.0},\n",
       " '9': {'lat': 1.2263, 'long': 103.7399, 'x': 287.0, 'y': 153.0}}"
      ]
     },
     "execution_count": 141,
     "metadata": {},
     "output_type": "execute_result"
    }
   ],
   "source": [
    "dict_result"
   ]
  },
  {
   "cell_type": "code",
   "execution_count": null,
   "metadata": {},
   "outputs": [],
   "source": []
  }
 ],
 "metadata": {
  "kernelspec": {
   "display_name": "Python 3",
   "language": "python",
   "name": "python3"
  },
  "language_info": {
   "codemirror_mode": {
    "name": "ipython",
    "version": 3
   },
   "file_extension": ".py",
   "mimetype": "text/x-python",
   "name": "python",
   "nbconvert_exporter": "python",
   "pygments_lexer": "ipython3",
   "version": "3.5.2"
  }
 },
 "nbformat": 4,
 "nbformat_minor": 2
}
