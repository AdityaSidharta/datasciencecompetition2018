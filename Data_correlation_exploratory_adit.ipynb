{
 "cells": [
  {
   "cell_type": "code",
   "execution_count": 77,
   "metadata": {
    "collapsed": true
   },
   "outputs": [],
   "source": [
    "filepath = '/home/adityasidharta/git/datascience2018/datasets'\n",
    "gauge_path = filepath+'/gauge.csv'\n",
    "radar_path = filepath+'/radar'"
   ]
  },
  {
   "cell_type": "code",
   "execution_count": 164,
   "metadata": {
    "collapsed": true
   },
   "outputs": [],
   "source": [
    "from tqdm import tqdm_notebook as tqdm\n",
    "from scipy.stats import pearsonr"
   ]
  },
  {
   "cell_type": "code",
   "execution_count": 83,
   "metadata": {
    "collapsed": true
   },
   "outputs": [],
   "source": [
    "import pandas as pd\n",
    "import numpy as np\n",
    "import os"
   ]
  },
  {
   "cell_type": "code",
   "execution_count": 84,
   "metadata": {
    "collapsed": true
   },
   "outputs": [],
   "source": [
    "df_gauge = pd.read_csv(gauge_path)"
   ]
  },
  {
   "cell_type": "code",
   "execution_count": 141,
   "metadata": {},
   "outputs": [
    {
     "data": {
      "application/vnd.jupyter.widget-view+json": {
       "model_id": "57449b9a9bb34ee6b41d5e40639155f0"
      }
     },
     "metadata": {},
     "output_type": "display_data"
    },
    {
     "name": "stdout",
     "output_type": "stream",
     "text": [
      "\n"
     ]
    }
   ],
   "source": [
    "df_result = pd.DataFrame()\n",
    "train_week = []\n",
    "for filename in tqdm(os.listdir(radar_path)):\n",
    "    week = filename.split('.')[0][-2:]\n",
    "    train_week.append(str(week))\n",
    "    full_radar_path = os.path.join(radar_path, filename)\n",
    "    df_radar = pd.read_csv(full_radar_path)\n",
    "    radar_obs = df_radar.values[:,2:]\n",
    "    radar_arange = np.arange(0, 34)\n",
    "    radar_mean = np.matmul(radar_obs, radar_arange) / 2016.\n",
    "    if 'latlong' not in df_result.columns:\n",
    "        df_result['latlong'] = df_radar['lat'] * 1000 + df_radar['long']\n",
    "    assert np.allclose(df_result['latlong'].values, df_radar['lat'] * 1000 + df_radar['long'])\n",
    "    df_result['mean_week_'+str(week)] = radar_mean"
   ]
  },
  {
   "cell_type": "code",
   "execution_count": 142,
   "metadata": {
    "collapsed": true
   },
   "outputs": [],
   "source": [
    "df_result = df_result[sorted(df_result.columns)]"
   ]
  },
  {
   "cell_type": "code",
   "execution_count": 143,
   "metadata": {},
   "outputs": [
    {
     "data": {
      "text/html": [
       "<div>\n",
       "<table border=\"1\" class=\"dataframe\">\n",
       "  <thead>\n",
       "    <tr style=\"text-align: right;\">\n",
       "      <th></th>\n",
       "      <th>latlong</th>\n",
       "      <th>mean_week_13</th>\n",
       "      <th>mean_week_15</th>\n",
       "      <th>mean_week_16</th>\n",
       "      <th>mean_week_17</th>\n",
       "      <th>mean_week_18</th>\n",
       "      <th>mean_week_19</th>\n",
       "      <th>mean_week_20</th>\n",
       "      <th>mean_week_21</th>\n",
       "      <th>mean_week_22</th>\n",
       "      <th>...</th>\n",
       "      <th>mean_week_39</th>\n",
       "      <th>mean_week_41</th>\n",
       "      <th>mean_week_44</th>\n",
       "      <th>mean_week_45</th>\n",
       "      <th>mean_week_46</th>\n",
       "      <th>mean_week_47</th>\n",
       "      <th>mean_week_48</th>\n",
       "      <th>mean_week_49</th>\n",
       "      <th>mean_week_50</th>\n",
       "      <th>mean_week_51</th>\n",
       "    </tr>\n",
       "  </thead>\n",
       "  <tbody>\n",
       "    <tr>\n",
       "      <th>0</th>\n",
       "      <td>0</td>\n",
       "      <td>0.675099</td>\n",
       "      <td>0.382937</td>\n",
       "      <td>0.535714</td>\n",
       "      <td>0.815476</td>\n",
       "      <td>0.248016</td>\n",
       "      <td>0.237599</td>\n",
       "      <td>0.416667</td>\n",
       "      <td>0.908730</td>\n",
       "      <td>0.306052</td>\n",
       "      <td>...</td>\n",
       "      <td>0.193948</td>\n",
       "      <td>0.994544</td>\n",
       "      <td>0.695933</td>\n",
       "      <td>1.006944</td>\n",
       "      <td>1.025298</td>\n",
       "      <td>0.670139</td>\n",
       "      <td>0.461310</td>\n",
       "      <td>0.645337</td>\n",
       "      <td>0.406250</td>\n",
       "      <td>0.157242</td>\n",
       "    </tr>\n",
       "    <tr>\n",
       "      <th>1</th>\n",
       "      <td>1</td>\n",
       "      <td>0.714782</td>\n",
       "      <td>0.382440</td>\n",
       "      <td>0.493552</td>\n",
       "      <td>0.841270</td>\n",
       "      <td>0.258433</td>\n",
       "      <td>0.266369</td>\n",
       "      <td>0.450397</td>\n",
       "      <td>0.963790</td>\n",
       "      <td>0.289187</td>\n",
       "      <td>...</td>\n",
       "      <td>0.164683</td>\n",
       "      <td>0.980655</td>\n",
       "      <td>0.738591</td>\n",
       "      <td>1.010417</td>\n",
       "      <td>1.021825</td>\n",
       "      <td>0.635913</td>\n",
       "      <td>0.457341</td>\n",
       "      <td>0.637897</td>\n",
       "      <td>0.339782</td>\n",
       "      <td>0.183532</td>\n",
       "    </tr>\n",
       "    <tr>\n",
       "      <th>2</th>\n",
       "      <td>2</td>\n",
       "      <td>0.742063</td>\n",
       "      <td>0.411706</td>\n",
       "      <td>0.519345</td>\n",
       "      <td>0.859127</td>\n",
       "      <td>0.235615</td>\n",
       "      <td>0.260417</td>\n",
       "      <td>0.466270</td>\n",
       "      <td>0.968254</td>\n",
       "      <td>0.324901</td>\n",
       "      <td>...</td>\n",
       "      <td>0.145833</td>\n",
       "      <td>0.958333</td>\n",
       "      <td>0.691468</td>\n",
       "      <td>1.002480</td>\n",
       "      <td>1.012897</td>\n",
       "      <td>0.616071</td>\n",
       "      <td>0.469742</td>\n",
       "      <td>0.611607</td>\n",
       "      <td>0.336806</td>\n",
       "      <td>0.154266</td>\n",
       "    </tr>\n",
       "    <tr>\n",
       "      <th>3</th>\n",
       "      <td>3</td>\n",
       "      <td>0.746032</td>\n",
       "      <td>0.380456</td>\n",
       "      <td>0.522321</td>\n",
       "      <td>0.887897</td>\n",
       "      <td>0.247520</td>\n",
       "      <td>0.278274</td>\n",
       "      <td>0.474702</td>\n",
       "      <td>0.954365</td>\n",
       "      <td>0.307540</td>\n",
       "      <td>...</td>\n",
       "      <td>0.157738</td>\n",
       "      <td>0.932044</td>\n",
       "      <td>0.755952</td>\n",
       "      <td>1.075893</td>\n",
       "      <td>1.037202</td>\n",
       "      <td>0.561012</td>\n",
       "      <td>0.494048</td>\n",
       "      <td>0.574405</td>\n",
       "      <td>0.350694</td>\n",
       "      <td>0.157242</td>\n",
       "    </tr>\n",
       "    <tr>\n",
       "      <th>4</th>\n",
       "      <td>4</td>\n",
       "      <td>0.745536</td>\n",
       "      <td>0.380456</td>\n",
       "      <td>0.519345</td>\n",
       "      <td>0.860119</td>\n",
       "      <td>0.248016</td>\n",
       "      <td>0.277778</td>\n",
       "      <td>0.472222</td>\n",
       "      <td>0.950893</td>\n",
       "      <td>0.304563</td>\n",
       "      <td>...</td>\n",
       "      <td>0.155258</td>\n",
       "      <td>0.923115</td>\n",
       "      <td>0.771825</td>\n",
       "      <td>1.070933</td>\n",
       "      <td>1.038690</td>\n",
       "      <td>0.553075</td>\n",
       "      <td>0.499008</td>\n",
       "      <td>0.573909</td>\n",
       "      <td>0.352183</td>\n",
       "      <td>0.154266</td>\n",
       "    </tr>\n",
       "  </tbody>\n",
       "</table>\n",
       "<p>5 rows × 32 columns</p>\n",
       "</div>"
      ],
      "text/plain": [
       "   latlong  mean_week_13  mean_week_15  mean_week_16  mean_week_17  \\\n",
       "0        0      0.675099      0.382937      0.535714      0.815476   \n",
       "1        1      0.714782      0.382440      0.493552      0.841270   \n",
       "2        2      0.742063      0.411706      0.519345      0.859127   \n",
       "3        3      0.746032      0.380456      0.522321      0.887897   \n",
       "4        4      0.745536      0.380456      0.519345      0.860119   \n",
       "\n",
       "   mean_week_18  mean_week_19  mean_week_20  mean_week_21  mean_week_22  \\\n",
       "0      0.248016      0.237599      0.416667      0.908730      0.306052   \n",
       "1      0.258433      0.266369      0.450397      0.963790      0.289187   \n",
       "2      0.235615      0.260417      0.466270      0.968254      0.324901   \n",
       "3      0.247520      0.278274      0.474702      0.954365      0.307540   \n",
       "4      0.248016      0.277778      0.472222      0.950893      0.304563   \n",
       "\n",
       "       ...       mean_week_39  mean_week_41  mean_week_44  mean_week_45  \\\n",
       "0      ...           0.193948      0.994544      0.695933      1.006944   \n",
       "1      ...           0.164683      0.980655      0.738591      1.010417   \n",
       "2      ...           0.145833      0.958333      0.691468      1.002480   \n",
       "3      ...           0.157738      0.932044      0.755952      1.075893   \n",
       "4      ...           0.155258      0.923115      0.771825      1.070933   \n",
       "\n",
       "   mean_week_46  mean_week_47  mean_week_48  mean_week_49  mean_week_50  \\\n",
       "0      1.025298      0.670139      0.461310      0.645337      0.406250   \n",
       "1      1.021825      0.635913      0.457341      0.637897      0.339782   \n",
       "2      1.012897      0.616071      0.469742      0.611607      0.336806   \n",
       "3      1.037202      0.561012      0.494048      0.574405      0.350694   \n",
       "4      1.038690      0.553075      0.499008      0.573909      0.352183   \n",
       "\n",
       "   mean_week_51  \n",
       "0      0.157242  \n",
       "1      0.183532  \n",
       "2      0.154266  \n",
       "3      0.157242  \n",
       "4      0.154266  \n",
       "\n",
       "[5 rows x 32 columns]"
      ]
     },
     "execution_count": 143,
     "metadata": {},
     "output_type": "execute_result"
    }
   ],
   "source": [
    "df_result.head()"
   ]
  },
  {
   "cell_type": "code",
   "execution_count": 144,
   "metadata": {},
   "outputs": [],
   "source": [
    "df_gauge = pd.read_csv(gauge_path)"
   ]
  },
  {
   "cell_type": "code",
   "execution_count": 145,
   "metadata": {},
   "outputs": [],
   "source": [
    "df_gauge['Year'] = df_gauge['Year'].astype(str)\n",
    "df_gauge['Week'] = df_gauge['Week'].astype(str)\n",
    "df_gauge = df_gauge.apply(lambda x: x.fillna(x[2:].mean()),axis=1)"
   ]
  },
  {
   "cell_type": "code",
   "execution_count": 146,
   "metadata": {},
   "outputs": [],
   "source": [
    "train_week = sorted(train_week)"
   ]
  },
  {
   "cell_type": "code",
   "execution_count": 184,
   "metadata": {},
   "outputs": [],
   "source": [
    "train_bool = df_gauge['Week'].apply(lambda x : x in train_week)\n",
    "train_df_gauge = df_gauge[train_bool]"
   ]
  },
  {
   "cell_type": "code",
   "execution_count": 185,
   "metadata": {},
   "outputs": [],
   "source": [
    "train_df_gauge_array = train_df_gauge.values[:, 2:]"
   ]
  },
  {
   "cell_type": "code",
   "execution_count": 186,
   "metadata": {},
   "outputs": [
    {
     "data": {
      "text/html": [
       "<div>\n",
       "<table border=\"1\" class=\"dataframe\">\n",
       "  <thead>\n",
       "    <tr style=\"text-align: right;\">\n",
       "      <th></th>\n",
       "      <th>Year</th>\n",
       "      <th>Week</th>\n",
       "      <th>0</th>\n",
       "      <th>1</th>\n",
       "      <th>2</th>\n",
       "      <th>3</th>\n",
       "      <th>4</th>\n",
       "      <th>5</th>\n",
       "      <th>6</th>\n",
       "      <th>7</th>\n",
       "      <th>...</th>\n",
       "      <th>40</th>\n",
       "      <th>41</th>\n",
       "      <th>42</th>\n",
       "      <th>43</th>\n",
       "      <th>44</th>\n",
       "      <th>45</th>\n",
       "      <th>46</th>\n",
       "      <th>47</th>\n",
       "      <th>48</th>\n",
       "      <th>49</th>\n",
       "    </tr>\n",
       "  </thead>\n",
       "  <tbody>\n",
       "    <tr>\n",
       "      <th>12</th>\n",
       "      <td>2017</td>\n",
       "      <td>13</td>\n",
       "      <td>36.8</td>\n",
       "      <td>30.0</td>\n",
       "      <td>48.2</td>\n",
       "      <td>78.6</td>\n",
       "      <td>67.4</td>\n",
       "      <td>45.6</td>\n",
       "      <td>77.6</td>\n",
       "      <td>21.6</td>\n",
       "      <td>...</td>\n",
       "      <td>37.800000</td>\n",
       "      <td>34.0</td>\n",
       "      <td>43.645455</td>\n",
       "      <td>19.4</td>\n",
       "      <td>25.2</td>\n",
       "      <td>26.6</td>\n",
       "      <td>4.8</td>\n",
       "      <td>57.000000</td>\n",
       "      <td>107.000000</td>\n",
       "      <td>54.000000</td>\n",
       "    </tr>\n",
       "    <tr>\n",
       "      <th>14</th>\n",
       "      <td>2017</td>\n",
       "      <td>15</td>\n",
       "      <td>43.8</td>\n",
       "      <td>90.4</td>\n",
       "      <td>82.6</td>\n",
       "      <td>13.2</td>\n",
       "      <td>45.8</td>\n",
       "      <td>86.6</td>\n",
       "      <td>34.6</td>\n",
       "      <td>38.4</td>\n",
       "      <td>...</td>\n",
       "      <td>46.000000</td>\n",
       "      <td>99.0</td>\n",
       "      <td>66.773810</td>\n",
       "      <td>66.6</td>\n",
       "      <td>72.9</td>\n",
       "      <td>76.2</td>\n",
       "      <td>82.4</td>\n",
       "      <td>53.600000</td>\n",
       "      <td>21.800000</td>\n",
       "      <td>66.773810</td>\n",
       "    </tr>\n",
       "    <tr>\n",
       "      <th>15</th>\n",
       "      <td>2017</td>\n",
       "      <td>16</td>\n",
       "      <td>98.8</td>\n",
       "      <td>134.0</td>\n",
       "      <td>68.2</td>\n",
       "      <td>74.8</td>\n",
       "      <td>77.7</td>\n",
       "      <td>86.4</td>\n",
       "      <td>37.8</td>\n",
       "      <td>102.6</td>\n",
       "      <td>...</td>\n",
       "      <td>97.579487</td>\n",
       "      <td>139.0</td>\n",
       "      <td>97.579487</td>\n",
       "      <td>58.6</td>\n",
       "      <td>69.7</td>\n",
       "      <td>68.2</td>\n",
       "      <td>162.6</td>\n",
       "      <td>97.579487</td>\n",
       "      <td>43.000000</td>\n",
       "      <td>97.579487</td>\n",
       "    </tr>\n",
       "    <tr>\n",
       "      <th>16</th>\n",
       "      <td>2017</td>\n",
       "      <td>17</td>\n",
       "      <td>100.2</td>\n",
       "      <td>56.0</td>\n",
       "      <td>82.8</td>\n",
       "      <td>69.2</td>\n",
       "      <td>127.3</td>\n",
       "      <td>84.6</td>\n",
       "      <td>78.0</td>\n",
       "      <td>24.8</td>\n",
       "      <td>...</td>\n",
       "      <td>64.136842</td>\n",
       "      <td>46.2</td>\n",
       "      <td>89.200000</td>\n",
       "      <td>28.0</td>\n",
       "      <td>38.7</td>\n",
       "      <td>112.6</td>\n",
       "      <td>17.8</td>\n",
       "      <td>34.600000</td>\n",
       "      <td>64.136842</td>\n",
       "      <td>32.400000</td>\n",
       "    </tr>\n",
       "    <tr>\n",
       "      <th>17</th>\n",
       "      <td>2017</td>\n",
       "      <td>18</td>\n",
       "      <td>2.0</td>\n",
       "      <td>76.0</td>\n",
       "      <td>1.6</td>\n",
       "      <td>1.2</td>\n",
       "      <td>54.5</td>\n",
       "      <td>25.2</td>\n",
       "      <td>30.4</td>\n",
       "      <td>49.8</td>\n",
       "      <td>...</td>\n",
       "      <td>36.884211</td>\n",
       "      <td>24.8</td>\n",
       "      <td>36.884211</td>\n",
       "      <td>29.2</td>\n",
       "      <td>25.5</td>\n",
       "      <td>109.8</td>\n",
       "      <td>71.6</td>\n",
       "      <td>14.000000</td>\n",
       "      <td>36.884211</td>\n",
       "      <td>9.600000</td>\n",
       "    </tr>\n",
       "  </tbody>\n",
       "</table>\n",
       "<p>5 rows × 52 columns</p>\n",
       "</div>"
      ],
      "text/plain": [
       "    Year Week      0      1     2     3      4     5     6      7    ...      \\\n",
       "12  2017   13   36.8   30.0  48.2  78.6   67.4  45.6  77.6   21.6    ...       \n",
       "14  2017   15   43.8   90.4  82.6  13.2   45.8  86.6  34.6   38.4    ...       \n",
       "15  2017   16   98.8  134.0  68.2  74.8   77.7  86.4  37.8  102.6    ...       \n",
       "16  2017   17  100.2   56.0  82.8  69.2  127.3  84.6  78.0   24.8    ...       \n",
       "17  2017   18    2.0   76.0   1.6   1.2   54.5  25.2  30.4   49.8    ...       \n",
       "\n",
       "           40     41         42    43    44     45     46         47  \\\n",
       "12  37.800000   34.0  43.645455  19.4  25.2   26.6    4.8  57.000000   \n",
       "14  46.000000   99.0  66.773810  66.6  72.9   76.2   82.4  53.600000   \n",
       "15  97.579487  139.0  97.579487  58.6  69.7   68.2  162.6  97.579487   \n",
       "16  64.136842   46.2  89.200000  28.0  38.7  112.6   17.8  34.600000   \n",
       "17  36.884211   24.8  36.884211  29.2  25.5  109.8   71.6  14.000000   \n",
       "\n",
       "            48         49  \n",
       "12  107.000000  54.000000  \n",
       "14   21.800000  66.773810  \n",
       "15   43.000000  97.579487  \n",
       "16   64.136842  32.400000  \n",
       "17   36.884211   9.600000  \n",
       "\n",
       "[5 rows x 52 columns]"
      ]
     },
     "execution_count": 186,
     "metadata": {},
     "output_type": "execute_result"
    }
   ],
   "source": [
    "train_df_gauge.head()"
   ]
  },
  {
   "cell_type": "code",
   "execution_count": 187,
   "metadata": {},
   "outputs": [
    {
     "data": {
      "text/plain": [
       "(31, 50)"
      ]
     },
     "execution_count": 187,
     "metadata": {},
     "output_type": "execute_result"
    }
   ],
   "source": [
    "train_df_gauge_array.shape\n"
   ]
  },
  {
   "cell_type": "code",
   "execution_count": 188,
   "metadata": {},
   "outputs": [
    {
     "data": {
      "text/plain": [
       "array([     0,      1,      2, ..., 479477, 479478, 479479])"
      ]
     },
     "execution_count": 188,
     "metadata": {},
     "output_type": "execute_result"
    }
   ],
   "source": [
    "df_result['latlong'].values"
   ]
  },
  {
   "cell_type": "code",
   "execution_count": 189,
   "metadata": {},
   "outputs": [
    {
     "data": {
      "application/vnd.jupyter.widget-view+json": {
       "model_id": "1a3a7a45d5584dbfaca5089287ef06e5"
      }
     },
     "metadata": {},
     "output_type": "display_data"
    },
    {
     "data": {
      "application/vnd.jupyter.widget-view+json": {
       "model_id": "8bf08078c4e5490a9664f4cb66f55d12"
      }
     },
     "metadata": {},
     "output_type": "display_data"
    },
    {
     "name": "stdout",
     "output_type": "stream",
     "text": [
      "\n"
     ]
    },
    {
     "data": {
      "application/vnd.jupyter.widget-view+json": {
       "model_id": "f188494fc3b149eeb2bb41126d1585b9"
      }
     },
     "metadata": {},
     "output_type": "display_data"
    },
    {
     "data": {
      "application/vnd.jupyter.widget-view+json": {
       "model_id": "072e1dd9b8324c948c45d81cdeff999e"
      }
     },
     "metadata": {},
     "output_type": "display_data"
    },
    {
     "ename": "KeyboardInterrupt",
     "evalue": "",
     "output_type": "error",
     "traceback": [
      "\u001b[0;31m---------------------------------------------------------------------------\u001b[0m",
      "\u001b[0;31mKeyboardInterrupt\u001b[0m                         Traceback (most recent call last)",
      "\u001b[0;32m<ipython-input-189-f25836475d4a>\u001b[0m in \u001b[0;36m<module>\u001b[0;34m()\u001b[0m\n\u001b[1;32m      4\u001b[0m     \u001b[0mstation_values\u001b[0m \u001b[0;34m=\u001b[0m \u001b[0mtrain_df_gauge_array\u001b[0m\u001b[0;34m[\u001b[0m\u001b[0;34m:\u001b[0m\u001b[0;34m,\u001b[0m \u001b[0;36m1\u001b[0m\u001b[0;34m]\u001b[0m\u001b[0;34m\u001b[0m\u001b[0m\n\u001b[1;32m      5\u001b[0m     \u001b[0mtotal_latlong\u001b[0m \u001b[0;34m=\u001b[0m \u001b[0;34m[\u001b[0m\u001b[0;34m]\u001b[0m\u001b[0;34m\u001b[0m\u001b[0m\n\u001b[0;32m----> 6\u001b[0;31m     \u001b[0;32mfor\u001b[0m \u001b[0midx\u001b[0m\u001b[0;34m,\u001b[0m \u001b[0mlatlong\u001b[0m \u001b[0;32min\u001b[0m \u001b[0mtqdm\u001b[0m\u001b[0;34m(\u001b[0m\u001b[0mdf_result\u001b[0m\u001b[0;34m.\u001b[0m\u001b[0miterrows\u001b[0m\u001b[0;34m(\u001b[0m\u001b[0;34m)\u001b[0m\u001b[0;34m)\u001b[0m\u001b[0;34m:\u001b[0m\u001b[0;34m\u001b[0m\u001b[0m\n\u001b[0m\u001b[1;32m      7\u001b[0m         \u001b[0mlatlong_values\u001b[0m \u001b[0;34m=\u001b[0m \u001b[0mlatlong\u001b[0m\u001b[0;34m.\u001b[0m\u001b[0mvalues\u001b[0m\u001b[0;34m[\u001b[0m\u001b[0;36m1\u001b[0m\u001b[0;34m:\u001b[0m\u001b[0;34m]\u001b[0m\u001b[0;34m\u001b[0m\u001b[0m\n\u001b[1;32m      8\u001b[0m         \u001b[0mcorrelation\u001b[0m \u001b[0;34m=\u001b[0m \u001b[0mnp\u001b[0m\u001b[0;34m.\u001b[0m\u001b[0mcorrcoef\u001b[0m\u001b[0;34m(\u001b[0m\u001b[0mstation_values\u001b[0m\u001b[0;34m.\u001b[0m\u001b[0mtolist\u001b[0m\u001b[0;34m(\u001b[0m\u001b[0;34m)\u001b[0m\u001b[0;34m,\u001b[0m \u001b[0mlatlong_values\u001b[0m\u001b[0;34m.\u001b[0m\u001b[0mtolist\u001b[0m\u001b[0;34m(\u001b[0m\u001b[0;34m)\u001b[0m\u001b[0;34m)\u001b[0m\u001b[0;34m[\u001b[0m\u001b[0;36m0\u001b[0m\u001b[0;34m]\u001b[0m\u001b[0;34m[\u001b[0m\u001b[0;36m1\u001b[0m\u001b[0;34m]\u001b[0m\u001b[0;34m\u001b[0m\u001b[0m\n",
      "\u001b[0;32m/home/adityasidharta/anaconda2/lib/python2.7/site-packages/tqdm/_tqdm_notebook.pyc\u001b[0m in \u001b[0;36m__iter__\u001b[0;34m(self, *args, **kwargs)\u001b[0m\n\u001b[1;32m    190\u001b[0m     \u001b[0;32mdef\u001b[0m \u001b[0m__iter__\u001b[0m\u001b[0;34m(\u001b[0m\u001b[0mself\u001b[0m\u001b[0;34m,\u001b[0m \u001b[0;34m*\u001b[0m\u001b[0margs\u001b[0m\u001b[0;34m,\u001b[0m \u001b[0;34m**\u001b[0m\u001b[0mkwargs\u001b[0m\u001b[0;34m)\u001b[0m\u001b[0;34m:\u001b[0m\u001b[0;34m\u001b[0m\u001b[0m\n\u001b[1;32m    191\u001b[0m         \u001b[0;32mtry\u001b[0m\u001b[0;34m:\u001b[0m\u001b[0;34m\u001b[0m\u001b[0m\n\u001b[0;32m--> 192\u001b[0;31m             \u001b[0;32mfor\u001b[0m \u001b[0mobj\u001b[0m \u001b[0;32min\u001b[0m \u001b[0msuper\u001b[0m\u001b[0;34m(\u001b[0m\u001b[0mtqdm_notebook\u001b[0m\u001b[0;34m,\u001b[0m \u001b[0mself\u001b[0m\u001b[0;34m)\u001b[0m\u001b[0;34m.\u001b[0m\u001b[0m__iter__\u001b[0m\u001b[0;34m(\u001b[0m\u001b[0;34m*\u001b[0m\u001b[0margs\u001b[0m\u001b[0;34m,\u001b[0m \u001b[0;34m**\u001b[0m\u001b[0mkwargs\u001b[0m\u001b[0;34m)\u001b[0m\u001b[0;34m:\u001b[0m\u001b[0;34m\u001b[0m\u001b[0m\n\u001b[0m\u001b[1;32m    193\u001b[0m                 \u001b[0;31m# return super(tqdm...) will not catch exception\u001b[0m\u001b[0;34m\u001b[0m\u001b[0;34m\u001b[0m\u001b[0m\n\u001b[1;32m    194\u001b[0m                 \u001b[0;32myield\u001b[0m \u001b[0mobj\u001b[0m\u001b[0;34m\u001b[0m\u001b[0m\n",
      "\u001b[0;32m/home/adityasidharta/anaconda2/lib/python2.7/site-packages/tqdm/_tqdm.pyc\u001b[0m in \u001b[0;36m__iter__\u001b[0;34m(self)\u001b[0m\n\u001b[1;32m    903\u001b[0m \"\"\", fp_write=getattr(self.fp, 'write', sys.stderr.write))\n\u001b[1;32m    904\u001b[0m \u001b[0;34m\u001b[0m\u001b[0m\n\u001b[0;32m--> 905\u001b[0;31m             \u001b[0;32mfor\u001b[0m \u001b[0mobj\u001b[0m \u001b[0;32min\u001b[0m \u001b[0miterable\u001b[0m\u001b[0;34m:\u001b[0m\u001b[0;34m\u001b[0m\u001b[0m\n\u001b[0m\u001b[1;32m    906\u001b[0m                 \u001b[0;32myield\u001b[0m \u001b[0mobj\u001b[0m\u001b[0;34m\u001b[0m\u001b[0m\n\u001b[1;32m    907\u001b[0m                 \u001b[0;31m# Update and possibly print the progressbar.\u001b[0m\u001b[0;34m\u001b[0m\u001b[0;34m\u001b[0m\u001b[0m\n",
      "\u001b[0;32m/home/adityasidharta/anaconda2/lib/python2.7/site-packages/pandas/core/frame.pyc\u001b[0m in \u001b[0;36miterrows\u001b[0;34m(self)\u001b[0m\n\u001b[1;32m    654\u001b[0m         \u001b[0mcolumns\u001b[0m \u001b[0;34m=\u001b[0m \u001b[0mself\u001b[0m\u001b[0;34m.\u001b[0m\u001b[0mcolumns\u001b[0m\u001b[0;34m\u001b[0m\u001b[0m\n\u001b[1;32m    655\u001b[0m         \u001b[0;32mfor\u001b[0m \u001b[0mk\u001b[0m\u001b[0;34m,\u001b[0m \u001b[0mv\u001b[0m \u001b[0;32min\u001b[0m \u001b[0mzip\u001b[0m\u001b[0;34m(\u001b[0m\u001b[0mself\u001b[0m\u001b[0;34m.\u001b[0m\u001b[0mindex\u001b[0m\u001b[0;34m,\u001b[0m \u001b[0mself\u001b[0m\u001b[0;34m.\u001b[0m\u001b[0mvalues\u001b[0m\u001b[0;34m)\u001b[0m\u001b[0;34m:\u001b[0m\u001b[0;34m\u001b[0m\u001b[0m\n\u001b[0;32m--> 656\u001b[0;31m             \u001b[0ms\u001b[0m \u001b[0;34m=\u001b[0m \u001b[0mSeries\u001b[0m\u001b[0;34m(\u001b[0m\u001b[0mv\u001b[0m\u001b[0;34m,\u001b[0m \u001b[0mindex\u001b[0m\u001b[0;34m=\u001b[0m\u001b[0mcolumns\u001b[0m\u001b[0;34m,\u001b[0m \u001b[0mname\u001b[0m\u001b[0;34m=\u001b[0m\u001b[0mk\u001b[0m\u001b[0;34m)\u001b[0m\u001b[0;34m\u001b[0m\u001b[0m\n\u001b[0m\u001b[1;32m    657\u001b[0m             \u001b[0;32myield\u001b[0m \u001b[0mk\u001b[0m\u001b[0;34m,\u001b[0m \u001b[0ms\u001b[0m\u001b[0;34m\u001b[0m\u001b[0m\n\u001b[1;32m    658\u001b[0m \u001b[0;34m\u001b[0m\u001b[0m\n",
      "\u001b[0;32m/home/adityasidharta/anaconda2/lib/python2.7/site-packages/pandas/core/series.pyc\u001b[0m in \u001b[0;36m__init__\u001b[0;34m(self, data, index, dtype, name, copy, fastpath)\u001b[0m\n\u001b[1;32m    229\u001b[0m                 \u001b[0mdata\u001b[0m \u001b[0;34m=\u001b[0m \u001b[0mSingleBlockManager\u001b[0m\u001b[0;34m(\u001b[0m\u001b[0mdata\u001b[0m\u001b[0;34m,\u001b[0m \u001b[0mindex\u001b[0m\u001b[0;34m,\u001b[0m \u001b[0mfastpath\u001b[0m\u001b[0;34m=\u001b[0m\u001b[0mTrue\u001b[0m\u001b[0;34m)\u001b[0m\u001b[0;34m\u001b[0m\u001b[0m\n\u001b[1;32m    230\u001b[0m \u001b[0;34m\u001b[0m\u001b[0m\n\u001b[0;32m--> 231\u001b[0;31m         \u001b[0mgeneric\u001b[0m\u001b[0;34m.\u001b[0m\u001b[0mNDFrame\u001b[0m\u001b[0;34m.\u001b[0m\u001b[0m__init__\u001b[0m\u001b[0;34m(\u001b[0m\u001b[0mself\u001b[0m\u001b[0;34m,\u001b[0m \u001b[0mdata\u001b[0m\u001b[0;34m,\u001b[0m \u001b[0mfastpath\u001b[0m\u001b[0;34m=\u001b[0m\u001b[0mTrue\u001b[0m\u001b[0;34m)\u001b[0m\u001b[0;34m\u001b[0m\u001b[0m\n\u001b[0m\u001b[1;32m    232\u001b[0m \u001b[0;34m\u001b[0m\u001b[0m\n\u001b[1;32m    233\u001b[0m         \u001b[0mself\u001b[0m\u001b[0;34m.\u001b[0m\u001b[0mname\u001b[0m \u001b[0;34m=\u001b[0m \u001b[0mname\u001b[0m\u001b[0;34m\u001b[0m\u001b[0m\n",
      "\u001b[0;32m/home/adityasidharta/anaconda2/lib/python2.7/site-packages/pandas/core/generic.pyc\u001b[0m in \u001b[0;36m__init__\u001b[0;34m(self, data, axes, copy, dtype, fastpath)\u001b[0m\n\u001b[1;32m    105\u001b[0m                     \u001b[0mdata\u001b[0m \u001b[0;34m=\u001b[0m \u001b[0mdata\u001b[0m\u001b[0;34m.\u001b[0m\u001b[0mreindex_axis\u001b[0m\u001b[0;34m(\u001b[0m\u001b[0max\u001b[0m\u001b[0;34m,\u001b[0m \u001b[0maxis\u001b[0m\u001b[0;34m=\u001b[0m\u001b[0mi\u001b[0m\u001b[0;34m)\u001b[0m\u001b[0;34m\u001b[0m\u001b[0m\n\u001b[1;32m    106\u001b[0m \u001b[0;34m\u001b[0m\u001b[0m\n\u001b[0;32m--> 107\u001b[0;31m         \u001b[0mobject\u001b[0m\u001b[0;34m.\u001b[0m\u001b[0m__setattr__\u001b[0m\u001b[0;34m(\u001b[0m\u001b[0mself\u001b[0m\u001b[0;34m,\u001b[0m \u001b[0;34m'is_copy'\u001b[0m\u001b[0;34m,\u001b[0m \u001b[0mNone\u001b[0m\u001b[0;34m)\u001b[0m\u001b[0;34m\u001b[0m\u001b[0m\n\u001b[0m\u001b[1;32m    108\u001b[0m         \u001b[0mobject\u001b[0m\u001b[0;34m.\u001b[0m\u001b[0m__setattr__\u001b[0m\u001b[0;34m(\u001b[0m\u001b[0mself\u001b[0m\u001b[0;34m,\u001b[0m \u001b[0;34m'_data'\u001b[0m\u001b[0;34m,\u001b[0m \u001b[0mdata\u001b[0m\u001b[0;34m)\u001b[0m\u001b[0;34m\u001b[0m\u001b[0m\n\u001b[1;32m    109\u001b[0m         \u001b[0mobject\u001b[0m\u001b[0;34m.\u001b[0m\u001b[0m__setattr__\u001b[0m\u001b[0;34m(\u001b[0m\u001b[0mself\u001b[0m\u001b[0;34m,\u001b[0m \u001b[0;34m'_item_cache'\u001b[0m\u001b[0;34m,\u001b[0m \u001b[0;34m{\u001b[0m\u001b[0;34m}\u001b[0m\u001b[0;34m)\u001b[0m\u001b[0;34m\u001b[0m\u001b[0m\n",
      "\u001b[0;31mKeyboardInterrupt\u001b[0m: "
     ]
    },
    {
     "name": "stdout",
     "output_type": "stream",
     "text": [
      "\r",
      "          \r",
      "174336it [01:24, 2060.51it/s]"
     ]
    }
   ],
   "source": [
    "df_corr_result = pd.DataFrame()\n",
    "df_corr_result['latlong'] = df_result['latlong'].values\n",
    "for station in tqdm(range(train_df_gauge_array.shape[1])):\n",
    "    station_values = train_df_gauge_array[:, 1]\n",
    "    total_latlong = []\n",
    "    for idx, latlong in tqdm(df_result.iterrows()):\n",
    "        latlong_values = latlong.values[1:]\n",
    "        correlation = np.corrcoef(station_values.tolist(), latlong_values.tolist())[0][1]\n",
    "        total_latlong.append(correlation)\n",
    "    df_corr_result['corr_station_'+str(station)] = total_latlong"
   ]
  }
 ],
 "metadata": {
  "kernelspec": {
   "display_name": "Python 2",
   "language": "python",
   "name": "python2"
  },
  "language_info": {
   "codemirror_mode": {
    "name": "ipython",
    "version": 2
   },
   "file_extension": ".py",
   "mimetype": "text/x-python",
   "name": "python",
   "nbconvert_exporter": "python",
   "pygments_lexer": "ipython2",
   "version": "2.7.13"
  }
 },
 "nbformat": 4,
 "nbformat_minor": 2
}
