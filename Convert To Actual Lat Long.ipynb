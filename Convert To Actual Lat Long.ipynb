{
 "cells": [
  {
   "cell_type": "code",
   "execution_count": 12,
   "metadata": {},
   "outputs": [],
   "source": [
    "import numpy as np\n",
    "\n",
    "def displace(lat, lng, theta, distance):\n",
    "\n",
    "    \"\"\"\n",
    "    Displace a LatLng theta degrees counterclockwise and some\n",
    "    meters in that direction.\n",
    "    Notes:\n",
    "        http://www.movable-type.co.uk/scripts/latlong.html\n",
    "        0 DEGREES IS THE VERTICAL Y AXIS! IMPORTANT!\n",
    "    Args:\n",
    "        theta:    A number in degrees.\n",
    "        distance: A number in meters.\n",
    "    Returns:\n",
    "        A new LatLng.\n",
    "    \"\"\"\n",
    "    E_RADIUS = 6371000\n",
    "\n",
    "    theta = np.float32(theta)\n",
    "\n",
    "    delta = np.divide(np.float32(distance), np.float32(E_RADIUS))\n",
    "\n",
    "    def to_radians(theta):\n",
    "        return np.divide(np.dot(theta, np.pi), np.float32(180.0))\n",
    "\n",
    "    def to_degrees(theta):\n",
    "        return np.divide(np.dot(theta, np.float32(180.0)), np.pi)\n",
    "\n",
    "    theta = to_radians(theta)\n",
    "    lat1 = to_radians(lat)\n",
    "    lng1 = to_radians(lng)\n",
    "    c = np.sin(lat1) * np.cos(delta) + np.cos(lat1) * np.sin(delta) * np.cos(theta)\n",
    "    lat2 = np.arcsin(c)\n",
    "\n",
    "    lng2 = lng1 + np.arctan2( np.sin(theta) * np.sin(delta) * np.cos(lat1),\n",
    "                              np.cos(delta) - np.sin(lat1) * np.sin(lat2))\n",
    "\n",
    "    lng2 = (lng2 + 3 * np.pi) % (2 * np.pi) - np.pi\n",
    "\n",
    "    return (np.round(to_degrees(lat2), decimals=4), np.round(to_degrees(lng2), decimals=4))\n"
   ]
  },
  {
   "cell_type": "code",
   "execution_count": 13,
   "metadata": {},
   "outputs": [],
   "source": [
    "ORIGIN_LAT = 1.980\n",
    "ORIGIN_LONG = 103.338\n",
    "DISTANCE = 292"
   ]
  },
  {
   "cell_type": "code",
   "execution_count": 45,
   "metadata": {},
   "outputs": [
    {
     "name": "stdout",
     "output_type": "stream",
     "text": [
      "(1.98, 103.3354)\n"
     ]
    }
   ],
   "source": [
    "print(displace(ORIGIN_LAT, ORIGIN_LONG, 270, DISTANCE))"
   ]
  },
  {
   "cell_type": "code",
   "execution_count": 43,
   "metadata": {},
   "outputs": [
    {
     "data": {
      "text/plain": [
       "(292.0, 360.0)"
      ]
     },
     "execution_count": 43,
     "metadata": {},
     "output_type": "execute_result"
    }
   ],
   "source": [
    "import math\n",
    "\n",
    "def find_distance_angle(lat, long):\n",
    "    distance = math.sqrt(lat*lat + long*long) * 292\n",
    "    angle_rad = math.atan2(long, lat)\n",
    "    angle_deg = (angle_rad if angle_rad > 0 else (2*math.pi + angle_rad)) * 360 / (2*math.pi)\n",
    "    return distance, angle_deg\n",
    "\n",
    "find_distance_angle(1,0)"
   ]
  },
  {
   "cell_type": "code",
   "execution_count": 49,
   "metadata": {},
   "outputs": [],
   "source": [
    "new_lat_long = []\n",
    "\n",
    "for y in range(0, -480, -2):\n",
    "    for x in range(480):\n",
    "        distance, angle = find_distance_angle(y, x)\n",
    "        lat, long = displace(ORIGIN_LAT, ORIGIN_LONG, angle, distance)\n",
    "        new_lat_long.append((lat, long))\n",
    "        "
   ]
  },
  {
   "cell_type": "code",
   "execution_count": 50,
   "metadata": {},
   "outputs": [
    {
     "data": {
      "text/plain": [
       "(0.7244, 104.5959)"
      ]
     },
     "execution_count": 50,
     "metadata": {},
     "output_type": "execute_result"
    }
   ],
   "source": [
    "new_lat_long[-1]"
   ]
  },
  {
   "cell_type": "code",
   "execution_count": null,
   "metadata": {},
   "outputs": [],
   "source": []
  }
 ],
 "metadata": {
  "kernelspec": {
   "display_name": "Python 3",
   "language": "python",
   "name": "python3"
  },
  "language_info": {
   "codemirror_mode": {
    "name": "ipython",
    "version": 3
   },
   "file_extension": ".py",
   "mimetype": "text/x-python",
   "name": "python",
   "nbconvert_exporter": "python",
   "pygments_lexer": "ipython3",
   "version": "3.5.2"
  }
 },
 "nbformat": 4,
 "nbformat_minor": 2
}
