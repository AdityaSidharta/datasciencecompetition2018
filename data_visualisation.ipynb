{
 "cells": [
  {
   "cell_type": "code",
   "execution_count": null,
   "metadata": {},
   "outputs": [],
   "source": [
    "import pandas as pd\n",
    "import numpy as np\n",
    "import seaborn as sns\n",
    "import matplotlib.pyplot as plt"
   ]
  },
  {
   "cell_type": "code",
   "execution_count": null,
   "metadata": {},
   "outputs": [],
   "source": [
    "\"\"\"get radar averaged values\"\"\"\n",
    "def get_ave_radar(week):\n",
    "    path = \"datasets/radar/2017-\"+str(week)+\".csv\"\n",
    "    df = pd.read_csv(path)\n",
    "    freq = df.values[:, 3:] * np.arange(33)\n",
    "    ave = np.sum(freq, axis=1)/2016.0\n",
    "    df1 = pd.DataFrame()\n",
    "    df1['lat'] = df['lat']\n",
    "    df1['long'] = df['long']\n",
    "    df1['ave'] = ave\n",
    "    return df1"
   ]
  },
  {
   "cell_type": "code",
   "execution_count": null,
   "metadata": {},
   "outputs": [],
   "source": [
    "\"\"\"view heatmap\"\"\"\n",
    "def view_heatmap(df, col='ave'):\n",
    "    radar = df.pivot(\"lat\", \"long\", col)\n",
    "    fig, ax_r = plt.subplots(figsize=(20,20))\n",
    "    return sns.heatmap(ax=ax_r, data=radar)"
   ]
  },
  {
   "cell_type": "code",
   "execution_count": null,
   "metadata": {
    "scrolled": false
   },
   "outputs": [],
   "source": [
    "df_radar = get_ave_radar(13)\n",
    "view_heatmap(df_radar)"
   ]
  },
  {
   "cell_type": "code",
   "execution_count": null,
   "metadata": {},
   "outputs": [],
   "source": [
    "import matplotlib.pyplot as plt\n",
    "plt.scatter(df['lat'], df['long'], c=df['ave'])\n",
    "plt.colorbar()\n",
    "plt.show()"
   ]
  },
  {
   "cell_type": "markdown",
   "metadata": {},
   "source": [
    "## Explore corr.csv"
   ]
  },
  {
   "cell_type": "code",
   "execution_count": null,
   "metadata": {},
   "outputs": [],
   "source": [
    "path = \"corr.csv\"\n",
    "df_corr = pd.read_csv(path)\n",
    "del df_corr['Unnamed: 0']"
   ]
  },
  {
   "cell_type": "code",
   "execution_count": null,
   "metadata": {},
   "outputs": [],
   "source": [
    "\"\"\" add latlong back \"\"\"\n",
    "df_corr\n",
    "if 'lat' not in df_corr.columns:\n",
    "    df_corr['lat'] = (df_corr['latlong'] // 1000.).astype(int)\n",
    "    df_corr['long'] = (df_corr['latlong'] % 1000.).astype(int)"
   ]
  },
  {
   "cell_type": "code",
   "execution_count": null,
   "metadata": {
    "scrolled": true
   },
   "outputs": [],
   "source": [
    "\"\"\"save figs all stations\"\"\"\n",
    "for cols in df_corr.columns.values[1:-2]:\n",
    "    view_heatmap(df_corr, col=cols)\n",
    "    plt.savefig(\"figures/\" + cols)"
   ]
  },
  {
   "cell_type": "markdown",
   "metadata": {},
   "source": [
    "## Explore"
   ]
  },
  {
   "cell_type": "code",
   "execution_count": null,
   "metadata": {},
   "outputs": [],
   "source": [
    "\"\"\"load gauge values\"\"\"\n",
    "path = \"datasets/gauge.csv\"\n",
    "df_gauge = pd.read_csv(path)"
   ]
  },
  {
   "cell_type": "code",
   "execution_count": null,
   "metadata": {},
   "outputs": [],
   "source": [
    "train_w = ['13', '15', '16', '17', '18', '19', '20', '21',\n",
    "           '22', '23', '24', '26', '28', '29', '31', '32',\n",
    "           '33', '35', '36', '37', '38', '39', '41', '44',\n",
    "           '45', '46', '47', '48', '49', '50', '51']"
   ]
  },
  {
   "cell_type": "code",
   "execution_count": null,
   "metadata": {
    "scrolled": true
   },
   "outputs": [],
   "source": [
    "\"\"\"filter train week\"\"\"\n",
    "df_bool = df['Week'].apply(lambda x : str(x) in train_w)\n",
    "df[df_bool]"
   ]
  },
  {
   "cell_type": "code",
   "execution_count": null,
   "metadata": {
    "scrolled": true
   },
   "outputs": [],
   "source": [
    "# df2 = df3[df_bool]\n",
    "for a in df3.columns.values[2:]:\n",
    "    b = df3[a].isnull().sum()\n",
    "    if b < 10:\n",
    "        print \"g[%2s] %d\" % (a, df3[a].isnull().sum())"
   ]
  },
  {
   "cell_type": "code",
   "execution_count": null,
   "metadata": {
    "scrolled": false
   },
   "outputs": [],
   "source": [
    "df2 = df\n",
    "df1 =df2.fillna(method=\"bfill\", axis=1, inplace=False)\n",
    "df3 =df1.fillna(method=\"ffill\", axis=1, inplace=False)\n",
    "# df2.fillna(method=\"ffill\", axis=1)\n",
    "# df2.fillna(method=\"bfill\", axis=1)\n",
    "# df2.drop('Year', axis=1)\n",
    "df3"
   ]
  },
  {
   "cell_type": "code",
   "execution_count": null,
   "metadata": {},
   "outputs": [],
   "source": [
    "# import seaborn as sns; sns.set(color_codes=True)\n",
    "# x = np.linspace(0, 15, 31)\n",
    "# data = np.sin(x) + np.random.rand(10, 31) + np.random.randn(10, 1)\n",
    "f, ax = plt.subplots(figsize=(20, 10))\n",
    "sns.set(color_codes=True)\n",
    "ax = sns.tsplot(data=df3['0'].values)"
   ]
  },
  {
   "cell_type": "code",
   "execution_count": null,
   "metadata": {},
   "outputs": [],
   "source": []
  }
 ],
 "metadata": {
  "kernelspec": {
   "display_name": "Python 2",
   "language": "python",
   "name": "python2"
  },
  "language_info": {
   "codemirror_mode": {
    "name": "ipython",
    "version": 2
   },
   "file_extension": ".py",
   "mimetype": "text/x-python",
   "name": "python",
   "nbconvert_exporter": "python",
   "pygments_lexer": "ipython2",
   "version": "2.7.14"
  }
 },
 "nbformat": 4,
 "nbformat_minor": 2
}
