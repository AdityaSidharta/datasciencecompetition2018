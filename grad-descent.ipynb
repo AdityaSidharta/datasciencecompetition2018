{
 "cells": [
  {
   "cell_type": "code",
   "execution_count": 27,
   "metadata": {
    "inputHidden": false,
    "outputHidden": false,
    "scrolled": false
   },
   "outputs": [],
   "source": [
    "import numpy as np\n",
    "import matplotlib.pyplot as plt\n",
    "import random\n",
    "\n",
    "class Operation:\n",
    "    def __init__(self, forward, backward, eta=None, weights=None, fweights=None):\n",
    "        self.in_vars = None;     self.out_vars = None\n",
    "        self.in_error = None;    self.out_error = None\n",
    "        self.fforward = forward; self.fbackward = backward\n",
    "        self.eta = eta\n",
    "        \n",
    "        self.weights = weights;  self.fweights = fweights\n",
    "        self.weight_update = None\n",
    "        \n",
    "        if self.weights is not None:\n",
    "            self.weights = np.array(self.weights)\n",
    "            if self.fweights is None:\n",
    "                raise Exception(\"need to pass weight derivative\")\n",
    "            else:\n",
    "                self.fweights = np.array(self.fweights)\n",
    "            \n",
    "            if self.weights.shape != self.fweights.shape:\n",
    "                raise Exception(\"shape of weights and fweights not same\")\n",
    "\n",
    "    def forward(self):\n",
    "        if self.in_vars is None:\n",
    "            raise Exception(\"forward input not initialized\")\n",
    "        self.in_vars = np.array(self.in_vars)\n",
    "        if self.weights is None:\n",
    "            self.out_vars = np.array(self.fforward(self.in_vars))\n",
    "        else:\n",
    "            self.out_vars = np.array(self.fforward(self.in_vars, self.weights))\n",
    "    \n",
    "    def backward(self, weight_index=None):\n",
    "        if self.in_error is None:\n",
    "            raise Exception(\"backward input not initialized\")\n",
    "        if self.out_vars is None:\n",
    "            raise Exception(\"do a forward pass first\")\n",
    "        self.in_error = np.array(self.in_error)\n",
    "        if self.weights is None:\n",
    "            self.out_error = np.array(self.fbackward(self.in_vars) * self.in_error)\n",
    "        else:\n",
    "            self.out_error = np.array(self.fbackward(self.in_vars,self.weights) * self.in_error)\n",
    "        \n",
    "        self.update()\n",
    "        \n",
    "    def grad_descent(self):\n",
    "        w = self.weights\n",
    "        fw = self.fweights\n",
    "        #dw = np.array([fw.flatten()[i](self.in_vars[:,i],self.weights) for i in np.arange(np.size(fw))])\n",
    "        #dw = dw.reshape(fw.shape)\n",
    "        dw = np.array(fw[0](self.in_vars,self.weights))\n",
    "        return self.weights - np.sum(self.eta * dw * self.in_error,0)\n",
    "    \n",
    "    def update(self):\n",
    "        if self.weights is None:\n",
    "            return\n",
    "        self.weights = self.grad_descent()\n",
    "        \n",
    "class Path:\n",
    "    def __init__(self, ops, inputs, labels):\n",
    "        self.ops = ops\n",
    "        self.inputs = np.array(inputs)\n",
    "        self.labels = np.array(labels)\n",
    "        self.risk = None\n",
    "        self.risk_error = None\n",
    "        if self.inputs.shape != self.labels.shape:\n",
    "            raise Exception(\"inputs and labels need to have same dimensions\")\n",
    "        \n",
    "    def forward_risk(self,pred,label):\n",
    "        return np.sum((pred - label)**2) / np.size(pred) / 2\n",
    "    \n",
    "    def backward_risk(self,risk,risk_input):\n",
    "        return np.sum(self.ops[-1].out_vars - self.labels) / np.size(self.labels)\n",
    "    \n",
    "    def forward(self):\n",
    "        self.ops[0].in_vars = self.inputs\n",
    "        for n, op in enumerate(self.ops[:-1]):\n",
    "            op.forward()\n",
    "            self.ops[n+1].in_vars = op.out_vars\n",
    "            \n",
    "        self.ops[-1].forward()\n",
    "        self.risk = self.forward_risk(self.ops[-1].out_vars, self.labels)\n",
    "        return [self.ops[-1].out_vars, self.risk]\n",
    "    \n",
    "    def backward(self):\n",
    "        if self.risk is None:\n",
    "            raise Exception(\"run forward pass first\")\n",
    "\n",
    "        self.risk_error = self.backward_risk(self.risk,self.ops[-1].out_vars)\n",
    "        self.ops[-1].in_error = self.risk_error\n",
    "        \n",
    "        for n, op in reversed(list(enumerate(self.ops))[1:]):\n",
    "            op.backward()\n",
    "            self.ops[n-1].in_error = op.out_error\n",
    "\n",
    "        self.ops[0].backward()\n",
    "\n",
    "\n"
   ]
  },
  {
   "cell_type": "code",
   "execution_count": 29,
   "metadata": {
    "inputHidden": false,
    "outputHidden": false,
    "scrolled": false
   },
   "outputs": [
    {
     "name": "stdout",
     "output_type": "stream",
     "text": [
      "(1,)\n"
     ]
    },
    {
     "ename": "ValueError",
     "evalue": "cannot reshape array of size 20 into shape (1,)",
     "output_type": "error",
     "traceback": [
      "\u001b[0;31m---------------------------------------------------------------------------\u001b[0m",
      "\u001b[0;31mValueError\u001b[0m                                Traceback (most recent call last)",
      "\u001b[0;32m<ipython-input-29-b603dc6f3229>\u001b[0m in \u001b[0;36m<module>\u001b[0;34m()\u001b[0m\n\u001b[1;32m     21\u001b[0m \u001b[0;32mfor\u001b[0m \u001b[0mi\u001b[0m \u001b[0;32min\u001b[0m \u001b[0mnp\u001b[0m\u001b[0;34m.\u001b[0m\u001b[0marange\u001b[0m\u001b[0;34m(\u001b[0m\u001b[0;36m50\u001b[0m\u001b[0;34m)\u001b[0m\u001b[0;34m:\u001b[0m\u001b[0;34m\u001b[0m\u001b[0m\n\u001b[1;32m     22\u001b[0m     \u001b[0mnew\u001b[0m \u001b[0;34m=\u001b[0m \u001b[0mp\u001b[0m\u001b[0;34m.\u001b[0m\u001b[0mforward\u001b[0m\u001b[0;34m(\u001b[0m\u001b[0;34m)\u001b[0m\u001b[0;34m\u001b[0m\u001b[0m\n\u001b[0;32m---> 23\u001b[0;31m     \u001b[0mp\u001b[0m\u001b[0;34m.\u001b[0m\u001b[0mbackward\u001b[0m\u001b[0;34m(\u001b[0m\u001b[0;34m)\u001b[0m\u001b[0;34m\u001b[0m\u001b[0m\n\u001b[0m\u001b[1;32m     24\u001b[0m     \u001b[0mloss\u001b[0m\u001b[0;34m.\u001b[0m\u001b[0mappend\u001b[0m\u001b[0;34m(\u001b[0m\u001b[0mnew\u001b[0m\u001b[0;34m[\u001b[0m\u001b[0;36m1\u001b[0m\u001b[0;34m]\u001b[0m\u001b[0;34m)\u001b[0m\u001b[0;34m\u001b[0m\u001b[0m\n\u001b[1;32m     25\u001b[0m \u001b[0;34m\u001b[0m\u001b[0m\n",
      "\u001b[0;32m<ipython-input-27-ef6da5ad4a4a>\u001b[0m in \u001b[0;36mbackward\u001b[0;34m(self)\u001b[0m\n\u001b[1;32m     93\u001b[0m \u001b[0;34m\u001b[0m\u001b[0m\n\u001b[1;32m     94\u001b[0m         \u001b[0;32mfor\u001b[0m \u001b[0mn\u001b[0m\u001b[0;34m,\u001b[0m \u001b[0mop\u001b[0m \u001b[0;32min\u001b[0m \u001b[0mreversed\u001b[0m\u001b[0;34m(\u001b[0m\u001b[0mlist\u001b[0m\u001b[0;34m(\u001b[0m\u001b[0menumerate\u001b[0m\u001b[0;34m(\u001b[0m\u001b[0mself\u001b[0m\u001b[0;34m.\u001b[0m\u001b[0mops\u001b[0m\u001b[0;34m)\u001b[0m\u001b[0;34m)\u001b[0m\u001b[0;34m[\u001b[0m\u001b[0;36m1\u001b[0m\u001b[0;34m:\u001b[0m\u001b[0;34m]\u001b[0m\u001b[0;34m)\u001b[0m\u001b[0;34m:\u001b[0m\u001b[0;34m\u001b[0m\u001b[0m\n\u001b[0;32m---> 95\u001b[0;31m             \u001b[0mop\u001b[0m\u001b[0;34m.\u001b[0m\u001b[0mbackward\u001b[0m\u001b[0;34m(\u001b[0m\u001b[0;34m)\u001b[0m\u001b[0;34m\u001b[0m\u001b[0m\n\u001b[0m\u001b[1;32m     96\u001b[0m             \u001b[0mself\u001b[0m\u001b[0;34m.\u001b[0m\u001b[0mops\u001b[0m\u001b[0;34m[\u001b[0m\u001b[0mn\u001b[0m\u001b[0;34m-\u001b[0m\u001b[0;36m1\u001b[0m\u001b[0;34m]\u001b[0m\u001b[0;34m.\u001b[0m\u001b[0min_error\u001b[0m \u001b[0;34m=\u001b[0m \u001b[0mop\u001b[0m\u001b[0;34m.\u001b[0m\u001b[0mout_error\u001b[0m\u001b[0;34m\u001b[0m\u001b[0m\n\u001b[1;32m     97\u001b[0m \u001b[0;34m\u001b[0m\u001b[0m\n",
      "\u001b[0;32m<ipython-input-27-ef6da5ad4a4a>\u001b[0m in \u001b[0;36mbackward\u001b[0;34m(self, weight_index)\u001b[0m\n\u001b[1;32m     43\u001b[0m             \u001b[0mself\u001b[0m\u001b[0;34m.\u001b[0m\u001b[0mout_error\u001b[0m \u001b[0;34m=\u001b[0m \u001b[0mnp\u001b[0m\u001b[0;34m.\u001b[0m\u001b[0marray\u001b[0m\u001b[0;34m(\u001b[0m\u001b[0mself\u001b[0m\u001b[0;34m.\u001b[0m\u001b[0mfbackward\u001b[0m\u001b[0;34m(\u001b[0m\u001b[0mself\u001b[0m\u001b[0;34m.\u001b[0m\u001b[0min_vars\u001b[0m\u001b[0;34m,\u001b[0m\u001b[0mself\u001b[0m\u001b[0;34m.\u001b[0m\u001b[0mweights\u001b[0m\u001b[0;34m)\u001b[0m \u001b[0;34m*\u001b[0m \u001b[0mself\u001b[0m\u001b[0;34m.\u001b[0m\u001b[0min_error\u001b[0m\u001b[0;34m)\u001b[0m\u001b[0;34m\u001b[0m\u001b[0m\n\u001b[1;32m     44\u001b[0m \u001b[0;34m\u001b[0m\u001b[0m\n\u001b[0;32m---> 45\u001b[0;31m         \u001b[0mself\u001b[0m\u001b[0;34m.\u001b[0m\u001b[0mupdate\u001b[0m\u001b[0;34m(\u001b[0m\u001b[0;34m)\u001b[0m\u001b[0;34m\u001b[0m\u001b[0m\n\u001b[0m\u001b[1;32m     46\u001b[0m \u001b[0;34m\u001b[0m\u001b[0m\n\u001b[1;32m     47\u001b[0m     \u001b[0;32mdef\u001b[0m \u001b[0mgrad_descent\u001b[0m\u001b[0;34m(\u001b[0m\u001b[0mself\u001b[0m\u001b[0;34m)\u001b[0m\u001b[0;34m:\u001b[0m\u001b[0;34m\u001b[0m\u001b[0m\n",
      "\u001b[0;32m<ipython-input-27-ef6da5ad4a4a>\u001b[0m in \u001b[0;36mupdate\u001b[0;34m(self)\u001b[0m\n\u001b[1;32m     57\u001b[0m         \u001b[0;32mif\u001b[0m \u001b[0mself\u001b[0m\u001b[0;34m.\u001b[0m\u001b[0mweights\u001b[0m \u001b[0;32mis\u001b[0m \u001b[0;32mNone\u001b[0m\u001b[0;34m:\u001b[0m\u001b[0;34m\u001b[0m\u001b[0m\n\u001b[1;32m     58\u001b[0m             \u001b[0;32mreturn\u001b[0m\u001b[0;34m\u001b[0m\u001b[0m\n\u001b[0;32m---> 59\u001b[0;31m         \u001b[0mself\u001b[0m\u001b[0;34m.\u001b[0m\u001b[0mweights\u001b[0m \u001b[0;34m=\u001b[0m \u001b[0mself\u001b[0m\u001b[0;34m.\u001b[0m\u001b[0mgrad_descent\u001b[0m\u001b[0;34m(\u001b[0m\u001b[0;34m)\u001b[0m\u001b[0;34m\u001b[0m\u001b[0m\n\u001b[0m\u001b[1;32m     60\u001b[0m \u001b[0;34m\u001b[0m\u001b[0m\n\u001b[1;32m     61\u001b[0m \u001b[0;32mclass\u001b[0m \u001b[0mPath\u001b[0m\u001b[0;34m:\u001b[0m\u001b[0;34m\u001b[0m\u001b[0m\n",
      "\u001b[0;32m<ipython-input-27-ef6da5ad4a4a>\u001b[0m in \u001b[0;36mgrad_descent\u001b[0;34m(self)\u001b[0m\n\u001b[1;32m     50\u001b[0m         \u001b[0mprint\u001b[0m \u001b[0;34m(\u001b[0m\u001b[0mfw\u001b[0m\u001b[0;34m.\u001b[0m\u001b[0mshape\u001b[0m\u001b[0;34m)\u001b[0m\u001b[0;34m\u001b[0m\u001b[0m\n\u001b[1;32m     51\u001b[0m         \u001b[0mdw\u001b[0m \u001b[0;34m=\u001b[0m \u001b[0mnp\u001b[0m\u001b[0;34m.\u001b[0m\u001b[0marray\u001b[0m\u001b[0;34m(\u001b[0m\u001b[0;34m[\u001b[0m\u001b[0mfw\u001b[0m\u001b[0;34m.\u001b[0m\u001b[0mflatten\u001b[0m\u001b[0;34m(\u001b[0m\u001b[0;34m)\u001b[0m\u001b[0;34m[\u001b[0m\u001b[0mi\u001b[0m\u001b[0;34m]\u001b[0m\u001b[0;34m(\u001b[0m\u001b[0mself\u001b[0m\u001b[0;34m.\u001b[0m\u001b[0min_vars\u001b[0m\u001b[0;34m[\u001b[0m\u001b[0;34m:\u001b[0m\u001b[0;34m,\u001b[0m\u001b[0mi\u001b[0m\u001b[0;34m]\u001b[0m\u001b[0;34m,\u001b[0m\u001b[0mself\u001b[0m\u001b[0;34m.\u001b[0m\u001b[0mweights\u001b[0m\u001b[0;34m)\u001b[0m \u001b[0;32mfor\u001b[0m \u001b[0mi\u001b[0m \u001b[0;32min\u001b[0m \u001b[0mnp\u001b[0m\u001b[0;34m.\u001b[0m\u001b[0marange\u001b[0m\u001b[0;34m(\u001b[0m\u001b[0mnp\u001b[0m\u001b[0;34m.\u001b[0m\u001b[0msize\u001b[0m\u001b[0;34m(\u001b[0m\u001b[0mfw\u001b[0m\u001b[0;34m)\u001b[0m\u001b[0;34m)\u001b[0m\u001b[0;34m]\u001b[0m\u001b[0;34m)\u001b[0m\u001b[0;34m\u001b[0m\u001b[0m\n\u001b[0;32m---> 52\u001b[0;31m         \u001b[0mdw\u001b[0m \u001b[0;34m=\u001b[0m \u001b[0mdw\u001b[0m\u001b[0;34m.\u001b[0m\u001b[0mreshape\u001b[0m\u001b[0;34m(\u001b[0m\u001b[0mfw\u001b[0m\u001b[0;34m.\u001b[0m\u001b[0mshape\u001b[0m\u001b[0;34m)\u001b[0m\u001b[0;34m\u001b[0m\u001b[0m\n\u001b[0m\u001b[1;32m     53\u001b[0m \u001b[0;31m#         dw = np.array(fw[0](self.in_vars,self.weights))\u001b[0m\u001b[0;34m\u001b[0m\u001b[0;34m\u001b[0m\u001b[0m\n\u001b[1;32m     54\u001b[0m         \u001b[0;32mreturn\u001b[0m \u001b[0mself\u001b[0m\u001b[0;34m.\u001b[0m\u001b[0mweights\u001b[0m \u001b[0;34m-\u001b[0m \u001b[0mnp\u001b[0m\u001b[0;34m.\u001b[0m\u001b[0msum\u001b[0m\u001b[0;34m(\u001b[0m\u001b[0mself\u001b[0m\u001b[0;34m.\u001b[0m\u001b[0meta\u001b[0m \u001b[0;34m*\u001b[0m \u001b[0mdw\u001b[0m \u001b[0;34m*\u001b[0m \u001b[0mself\u001b[0m\u001b[0;34m.\u001b[0m\u001b[0min_error\u001b[0m\u001b[0;34m,\u001b[0m\u001b[0;36m0\u001b[0m\u001b[0;34m)\u001b[0m\u001b[0;34m\u001b[0m\u001b[0m\n",
      "\u001b[0;31mValueError\u001b[0m: cannot reshape array of size 20 into shape (1,)"
     ]
    }
   ],
   "source": [
    "# Generate labels: y=Ae^(Bx)\n",
    "# x: inputs, y: labels\n",
    "A = 3; B = 0.34\n",
    "x = np.arange(100).reshape(20,5)\n",
    "y = A*np.exp(B*x)\n",
    "# y += random.uniform(len(y),0.5)     # add some noise to label\n",
    "\n",
    "# Define operations\n",
    "# op1: y=B*x, op2: y=e^x, op3: y=A*x\n",
    "op1 = Operation(lambda x,w: np.array(x)*w,   lambda x,w: w,  0.000001,   [0.2],  [lambda x,w: x])    # B\n",
    "op2 = Operation(lambda x  : np.exp(x),       lambda x  : np.exp(x))               \n",
    "op3 = Operation(lambda x,w: np.array(x)*w,   lambda x,w: w,  0.0001,     [2],    [lambda x,w: x])    # A\n",
    "\n",
    "# Link operations together in a path\n",
    "# x -> op1 -> op2 -> op3 -> euclideanloss(x,y)\n",
    "p = Path([op1,op2,op3],x,y)\n",
    "\n",
    "loss = []   # empty list to store loss values as training progresses\n",
    "\n",
    "# Perform 50 iterations of gradient descent\n",
    "for i in np.arange(50):\n",
    "    new = p.forward()\n",
    "    p.backward()\n",
    "    loss.append(new[1])\n",
    "\n",
    "plt.plot(loss)\n",
    "\n",
    "y_hat = new[0]  # this stores the final output by the model\n",
    "plt.figure()    # plot labels and model predictions in a separate figure\n",
    "plt.plot(x,y);\n",
    "plt.plot(x,y_hat);\n",
    "\n",
    "print(\"Param A: \" + str(op3.weights))\n",
    "print(\"Param B: \" + str(op1.weights))\n",
    "print(\"Loss: \" + str(loss[-1]))"
   ]
  },
  {
   "cell_type": "code",
   "execution_count": 15,
   "metadata": {},
   "outputs": [],
   "source": [
    "class BasicModel:\n",
    "    \n",
    "    def __init__(self):\n",
    "        self.A = Operation(lambda x,w: np.array(x)*w,   lambda x,w: w,  0.0001,     [2],    [lambda x,w: x])\n",
    "        self.B = Operation(lambda x,w: np.array(x)*w,   lambda x,w: w,  0.000001,   [0.2],  [lambda x,w: x])\n",
    "        self.op = Operation(lambda x  : np.exp(x),       lambda x  : np.exp(x))\n",
    "        self.p = None\n",
    "        \n",
    "    def fit(self, x, y, A=3, B=0.34, theta=0.0001):\n",
    "        self.p = Path([self.B, self.op, self.A], x, y)\n",
    "        loss = []\n",
    "        \n",
    "        for i in range(50):\n",
    "            new = self.p.forward()\n",
    "            if loss:\n",
    "                prev = loss[-1]\n",
    "                if (max(new[1], prev) - min(new[1],prev)) < theta:\n",
    "                    break\n",
    "            self.p.backward()\n",
    "            loss.append(new[1])\n",
    "        print(\"A: {}\".format(self.A.weights))\n",
    "        print(\"B: {}\".format(self.B.weights))\n",
    "        print(\"Loss: {}\".format(loss[-1]))\n",
    "    \n",
    "    def predict(self, x):\n",
    "        if not p:\n",
    "            raise ValueError(\"Model is not fitted\")\n",
    "        A = self.A.weights\n",
    "        B = self.B.weights\n",
    "        y = A*np.exp(B*x)\n",
    "        return y"
   ]
  },
  {
   "cell_type": "code",
   "execution_count": 16,
   "metadata": {
    "inputHidden": false,
    "outputHidden": false,
    "scrolled": false
   },
   "outputs": [],
   "source": [
    "b = BasicModel()"
   ]
  },
  {
   "cell_type": "code",
   "execution_count": 17,
   "metadata": {},
   "outputs": [
    {
     "name": "stdout",
     "output_type": "stream",
     "text": [
      "A: [2.9147088]\n",
      "B: [0.34418178]\n",
      "Loss: 0.022827144126779556\n"
     ]
    }
   ],
   "source": [
    "A = 3; B = 0.34\n",
    "x = np.arange(10)\n",
    "y = A*np.exp(B*x)\n",
    "# y += random.uniform(len(y),0.5)\n",
    "\n",
    "b.fit(x, y)"
   ]
  },
  {
   "cell_type": "code",
   "execution_count": null,
   "metadata": {},
   "outputs": [],
   "source": []
  }
 ],
 "metadata": {
  "kernel_info": {
   "name": "python3"
  },
  "kernelspec": {
   "display_name": "Python 3",
   "language": "python",
   "name": "python3"
  },
  "language_info": {
   "codemirror_mode": {
    "name": "ipython",
    "version": 3
   },
   "file_extension": ".py",
   "mimetype": "text/x-python",
   "name": "python",
   "nbconvert_exporter": "python",
   "pygments_lexer": "ipython3",
   "version": "3.5.2"
  },
  "nteract": {
   "version": "0.8.4"
  }
 },
 "nbformat": 4,
 "nbformat_minor": 4
}
